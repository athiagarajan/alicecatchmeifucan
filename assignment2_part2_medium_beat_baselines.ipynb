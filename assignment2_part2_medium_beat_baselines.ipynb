{
  "nbformat": 4,
  "nbformat_minor": 0,
  "metadata": {
    "colab": {
      "name": "assignment2_part2_medium_beat_baselines.ipynb",
      "version": "0.3.2",
      "provenance": [],
      "collapsed_sections": [],
      "toc_visible": true,
      "include_colab_link": true
    },
    "kernelspec": {
      "name": "python3",
      "display_name": "Python 3"
    },
    "accelerator": "GPU"
  },
  "cells": [
    {
      "cell_type": "markdown",
      "metadata": {
        "id": "view-in-github",
        "colab_type": "text"
      },
      "source": [
        "<a href=\"https://colab.research.google.com/github/athiagarajan/alicecatchmeifucan/blob/master/assignment2_part2_medium_beat_baselines.ipynb\" target=\"_parent\"><img src=\"https://colab.research.google.com/assets/colab-badge.svg\" alt=\"Open In Colab\"/></a>"
      ]
    },
    {
      "metadata": {
        "id": "zYfXG7GWEX6I",
        "colab_type": "text"
      },
      "cell_type": "markdown",
      "source": [
        "<center>\n",
        "<img src=\"https://github.com/athiagarajan/alicecatchmeifucan/img/ods_stickers.jpg?raw=1\" />\n",
        "    \n",
        "## [mlcourse.ai](https://mlcourse.ai) – Open Machine Learning Course \n",
        "Author: [Yury Kashnitskiy](https://yorko.github.io) (@yorko). Edited by Sergey Kolchenko (@KolchenkoSergey). This material is subject to the terms and conditions of the [Creative Commons CC BY-NC-SA 4.0](https://creativecommons.org/licenses/by-nc-sa/4.0/) license. Free use is permitted for any non-commercial purpose."
      ]
    },
    {
      "metadata": {
        "id": "rtBVT9d5EX6K",
        "colab_type": "text"
      },
      "cell_type": "markdown",
      "source": [
        "# <center> Assignment #2. Spring 2019\n",
        "## <center>  Competition 2. Predicting Medium articles popularity with Ridge Regression <br>(beating baselines in the \"Medium\" competition)\n",
        "    \n",
        "<img src='https://github.com/athiagarajan/alicecatchmeifucan/img/medium_claps.jpg?raw=1' width=40% />\n",
        "\n",
        "\n",
        "In this [competition](https://www.kaggle.com/c/how-good-is-your-medium-article) we are predicting Medium article popularity based on its features like content, title, author, tags, reading time etc. \n",
        "\n",
        "Prior to working on the assignment, you'd better check out the corresponding course material:\n",
        " 1. [Classification, Decision Trees and k Nearest Neighbors](https://nbviewer.jupyter.org/github/Yorko/mlcourse_open/blob/master/jupyter_english/topic03_decision_trees_kNN/topic3_decision_trees_kNN.ipynb?flush_cache=true), the same as an interactive web-based [Kaggle Kernel](https://www.kaggle.com/kashnitsky/topic-3-decision-trees-and-knn) (basics of machine learning are covered here)\n",
        " 2. Linear classification and regression in 5 parts: \n",
        "    - [ordinary least squares](https://www.kaggle.com/kashnitsky/topic-4-linear-models-part-1-ols)\n",
        "    - [linear classification](https://www.kaggle.com/kashnitsky/topic-4-linear-models-part-2-classification)\n",
        "    - [regularization](https://www.kaggle.com/kashnitsky/topic-4-linear-models-part-3-regularization)\n",
        "    - [logistic regression: pros and cons](https://www.kaggle.com/kashnitsky/topic-4-linear-models-part-4-more-of-logit)\n",
        "    - [validation](https://www.kaggle.com/kashnitsky/topic-4-linear-models-part-5-validation)\n",
        " 3. You can also practice with demo assignments, which are simpler and already shared with solutions: \n",
        "    - \"Sarcasm detection with logistic regression\": [assignment](https://www.kaggle.com/kashnitsky/a4-demo-sarcasm-detection-with-logit) + [solution](https://www.kaggle.com/kashnitsky/a4-demo-sarcasm-detection-with-logit-solution)\n",
        "    - \"Linear regression as optimization\": [assignment](https://www.kaggle.com/kashnitsky/a4-demo-linear-regression-as-optimization/edit) (solution cannot be officially shared)\n",
        "    - \"Exploring OLS, Lasso and Random Forest in a regression task\": [assignment](https://www.kaggle.com/kashnitsky/a6-demo-linear-models-and-rf-for-regression) + [solution](https://www.kaggle.com/kashnitsky/a6-demo-regression-solution)\n",
        " 4. Baseline with Ridge regression and \"bag of words\" for article content, [Kernel](https://www.kaggle.com/kashnitsky/ridge-countvectorizer-baseline)\n",
        " 5. Other [Kernels](https://www.kaggle.com/c/how-good-is-your-medium-article/kernels?sortBy=voteCount&group=everyone&pageSize=20&competitionId=8673) in this competition. You can share yours as well, but not high-performing ones (Public LB MAE shall be > 1.5). Please don't spoil the competitive spirit.  \n",
        " 6. If that's still not enough, watch two videos (Linear regression and regularization) from here [mlcourse.ai/video](https://mlcourse.ai/video), the second one on LTV prediction is smth that you won't typically find in a MOOC - real problem, real metrics, real data.\n",
        "\n",
        "**Your task:**\n",
        " 1. \"Freeride\". Come up with good features to beat the baselines \"A2 baseline (10 credits)\" (**1.45082** Public LB MAE) and \"A2 strong baseline (20 credits)\"  (**1.41117** Public LB MAE). As names suggest, you'll get 10 more credits for beating the first one, and 10 more (20 in total) for beating the second one. You need to name your [team](https://www.kaggle.com/c/catch-me-if-you-can-intruder-detection-through-webpage-session-tracking2/team) (out of 1 person) in full accordance with the [course rating](https://docs.google.com/spreadsheets/d/1LAy1eK8vIONzIWgcCEaVmhKPSj579zK5lrECf_tQT60/edit?usp=sharing) (for newcomers: you need to name your team with your real full name). You can think of it as a part of the assignment.\n",
        " 2. If you've beaten \"A2 baseline (10 credits)\" or performed better, you need to upload your solution as described in [course roadmap](https://mlcourse.ai/roadmap) (\"Kaggle Inclass Competition Medium\"). For all baselines that you see on Public Leaderboard, it's OK to beat them on Public LB as well. But 10 winners will be defined according to the private LB, which will be revealed by @yorko on March 11. \n",
        " \n",
        "### <center> Deadline for A2: 2019 March 10, 20:59 GMT (London time)\n",
        " \n",
        "### How to get help\n",
        "In [ODS Slack](https://opendatascience.slack.com) (if you still don't have access, fill in the [form](https://docs.google.com/forms/d/1BMqcUc-hIQXa0HB_Q2Oa8vWBtGHXk8a6xo5gPnMKYKA/edit) mentioned on the mlcourse.ai main page), we have a channel **#mlcourse_ai_news** with announcements from the course team.\n",
        "You can discuss the course content freely in the **#mlcourse_ai** channel (we still have a huge Russian-speaking group, they have a separate channel **#mlcourse_ai_rus**).\n",
        "\n",
        "Please stick this special thread for your questions:\n",
        " - [#a2_medium](https://opendatascience.slack.com/archives/C91N8TL83/p1549882568052400) \n",
        " \n",
        "Help each other without sharing actual code. Our TA Artem @datamove is there to help (only in the mentioned thread, do not write to him directly)."
      ]
    },
    {
      "metadata": {
        "id": "YP6rNqhFEX6M",
        "colab_type": "code",
        "colab": {}
      },
      "cell_type": "code",
      "source": [
        "import os\n",
        "import json\n",
        "from tqdm import tqdm_notebook\n",
        "import numpy as np\n",
        "import pandas as pd\n",
        "from sklearn.feature_extraction.text import TfidfVectorizer\n",
        "from sklearn.metrics import mean_absolute_error\n",
        "from scipy.sparse import csr_matrix, hstack\n",
        "from sklearn.linear_model import Ridge\n",
        "import zipfile\n",
        "from matplotlib import pyplot as plt\n",
        "%matplotlib inline\n",
        "from sklearn.preprocessing import StandardScaler"
      ],
      "execution_count": 0,
      "outputs": []
    },
    {
      "metadata": {
        "id": "M9YDjJ128Plo",
        "colab_type": "code",
        "colab": {}
      },
      "cell_type": "code",
      "source": [
        "\n",
        "from numpy import array\n",
        "from numpy import argmax\n",
        "from sklearn.preprocessing import LabelEncoder\n",
        "from sklearn.preprocessing import OneHotEncoder"
      ],
      "execution_count": 0,
      "outputs": []
    },
    {
      "metadata": {
        "id": "mt_m839yEX6Q",
        "colab_type": "text"
      },
      "cell_type": "markdown",
      "source": [
        "The following code will help to throw away all HTML tags from an article content."
      ]
    },
    {
      "metadata": {
        "id": "stcY_lN1EX6S",
        "colab_type": "code",
        "colab": {}
      },
      "cell_type": "code",
      "source": [
        "from html.parser import HTMLParser\n",
        "\n",
        "class MLStripper(HTMLParser):\n",
        "    def __init__(self):\n",
        "        self.reset()\n",
        "        self.strict = False\n",
        "        self.convert_charrefs= True\n",
        "        self.fed = []\n",
        "    def handle_data(self, d):\n",
        "        self.fed.append(d)\n",
        "    def get_data(self):\n",
        "        return ''.join(self.fed)\n",
        "\n",
        "def strip_tags(html):\n",
        "    s = MLStripper()\n",
        "    s.feed(html)\n",
        "    return s.get_data()"
      ],
      "execution_count": 0,
      "outputs": []
    },
    {
      "metadata": {
        "id": "zOAds-GVEX6V",
        "colab_type": "text"
      },
      "cell_type": "markdown",
      "source": [
        "Supplementary function to read a JSON line without crashing on escape characters."
      ]
    },
    {
      "metadata": {
        "id": "3hsYw7H_EX6X",
        "colab_type": "code",
        "colab": {}
      },
      "cell_type": "code",
      "source": [
        "def read_json_line(line=None):\n",
        "    result = None\n",
        "    try:        \n",
        "        result = json.loads(line)\n",
        "    except Exception as e:      \n",
        "        # Find the offending character index:\n",
        "        idx_to_replace = int(str(e).split(' ')[-1].replace(')',''))      \n",
        "        # Remove the offending character:\n",
        "        new_line = list(line)\n",
        "        new_line[idx_to_replace] = ' '\n",
        "        new_line = ''.join(new_line)     \n",
        "        return read_json_line(line=new_line)\n",
        "    return result"
      ],
      "execution_count": 0,
      "outputs": []
    },
    {
      "metadata": {
        "id": "D3SQg8p9EX6a",
        "colab_type": "text"
      },
      "cell_type": "markdown",
      "source": [
        "Extract features `content`, `published`, `title` and `author`, write them to separate files for train and test sets."
      ]
    },
    {
      "metadata": {
        "id": "LuWFDYp-EX6b",
        "colab_type": "code",
        "colab": {}
      },
      "cell_type": "code",
      "source": [
        "def extract_features_and_write(path_to_data, inp_zip_filename,\n",
        "                               inp_filename, is_train=True):\n",
        "    \n",
        "    features = ['content', 'published', 'title', 'author']\n",
        "    prefix = 'train' if is_train else 'test'\n",
        "    feature_files = [open(os.path.join(path_to_data,\n",
        "                                       '{}_{}.txt'.format(prefix, feat)),\n",
        "                          'w', encoding='utf-8')\n",
        "                     for feat in features]\n",
        "    xx=''\n",
        "    #with open(os.path.join(path_to_data, inp_filename), \n",
        "              #encoding='utf-8') as inp_json_file:\n",
        "    zf = zipfile.ZipFile(os.path.join(path_to_data, inp_zip_filename))\n",
        "    #inp_json_file = zf.open(inp_filename)\n",
        "    with zf.open(inp_filename)  as inp_json_file:\n",
        "        for line in tqdm_notebook(inp_json_file):\n",
        "            json_data = read_json_line(line)\n",
        "            # You code here\n",
        "            content = json_data['content'].replace('\\n', ' ').replace('\\r', ' ')\n",
        "            content_no_html_tags = strip_tags(content)\n",
        "            feature_files[0].write(content_no_html_tags + '\\n')\n",
        "            content = json_data['published']['$date'].replace('\\n', ' ').replace('\\r', ' ')\n",
        "            content_no_html_tags = strip_tags(content.format('%Y-%m-%dT%H:%M:%S.%fZ'))\n",
        "            feature_files[1].write(content_no_html_tags + '\\n')\n",
        "            content = json_data['meta_tags']['title'].split('\\u2013')[0].strip().replace('\\n', ' ').replace('\\r', ' ')\n",
        "            content_no_html_tags = strip_tags(content)\n",
        "            feature_files[2].write(content_no_html_tags + '\\n')\n",
        "            content = json_data['meta_tags']['author'].strip()\n",
        "            #if content==None:\n",
        "              #content=' '\n",
        "            #xx=content\n",
        "            #break;\n",
        "            #content_no_html_tags = strip_tags(content)\n",
        "            feature_files[3].write(content + '\\n')\n",
        "    \n",
        "    return(xx)"
      ],
      "execution_count": 0,
      "outputs": []
    },
    {
      "metadata": {
        "id": "kqqJxrMEEX6f",
        "colab_type": "code",
        "colab": {}
      },
      "cell_type": "code",
      "source": [
        "PATH_TO_DATA = './' # modify this if you need to"
      ],
      "execution_count": 0,
      "outputs": []
    },
    {
      "metadata": {
        "id": "bJw-d8kkEX6l",
        "colab_type": "code",
        "outputId": "e592c93c-190d-4e56-8ed8-a0fbd63f75f7",
        "colab": {
          "base_uri": "https://localhost:8080/",
          "height": 51
        }
      },
      "cell_type": "code",
      "source": [
        "print(extract_features_and_write(PATH_TO_DATA, 'train.json.zip', 'train.json', is_train=True))"
      ],
      "execution_count": 7,
      "outputs": [
        {
          "output_type": "display_data",
          "data": {
            "application/vnd.jupyter.widget-view+json": {
              "model_id": "f03a4cf446214c0f8937f060d8a1054d",
              "version_minor": 0,
              "version_major": 2
            },
            "text/plain": [
              "HBox(children=(IntProgress(value=1, bar_style='info', max=1), HTML(value='')))"
            ]
          },
          "metadata": {
            "tags": []
          }
        },
        {
          "output_type": "stream",
          "text": [
            "\n",
            "\n"
          ],
          "name": "stdout"
        }
      ]
    },
    {
      "metadata": {
        "id": "TlR26Su9EX6q",
        "colab_type": "code",
        "outputId": "92e56f10-534c-47ce-d8e4-712063126551",
        "colab": {
          "base_uri": "https://localhost:8080/",
          "height": 51
        }
      },
      "cell_type": "code",
      "source": [
        "extract_features_and_write(PATH_TO_DATA, 'test.json.zip', 'test.json',  is_train=False)"
      ],
      "execution_count": 8,
      "outputs": [
        {
          "output_type": "display_data",
          "data": {
            "application/vnd.jupyter.widget-view+json": {
              "model_id": "336e2e42c3954b079daa3cc8ed810f80",
              "version_minor": 0,
              "version_major": 2
            },
            "text/plain": [
              "HBox(children=(IntProgress(value=1, bar_style='info', max=1), HTML(value='')))"
            ]
          },
          "metadata": {
            "tags": []
          }
        },
        {
          "output_type": "stream",
          "text": [
            "\n"
          ],
          "name": "stdout"
        },
        {
          "output_type": "execute_result",
          "data": {
            "text/plain": [
              "''"
            ]
          },
          "metadata": {
            "tags": []
          },
          "execution_count": 8
        }
      ]
    },
    {
      "metadata": {
        "id": "XMFYkzQYEX6v",
        "colab_type": "text"
      },
      "cell_type": "markdown",
      "source": [
        "**Add the following groups of features:**\n",
        "    - Tf-Idf with article content (ngram_range=(1, 2), max_features=100000 but you can try adding more)\n",
        "    - Tf-Idf with article titles (ngram_range=(1, 2), max_features=100000 but you can try adding more)\n",
        "    - Time features: publication hour, whether it's morning, day, night, whether it's a weekend\n",
        "    - Bag of authors (i.e. One-Hot-Encoded author names)"
      ]
    },
    {
      "metadata": {
        "id": "6aA-tac7EX6x",
        "colab_type": "code",
        "colab": {}
      },
      "cell_type": "code",
      "source": [
        "tfidf = TfidfVectorizer(max_features=50000, ngram_range=(1, 2))\n"
      ],
      "execution_count": 0,
      "outputs": []
    },
    {
      "metadata": {
        "id": "8rMKX1a4uVPd",
        "colab_type": "code",
        "outputId": "fa522ac3-faf7-46e8-b73c-6141b6a562b2",
        "colab": {
          "base_uri": "https://localhost:8080/",
          "height": 51
        }
      },
      "cell_type": "code",
      "source": [
        "%%time\n",
        "with open('train_title.txt', encoding='utf-8') as input_train_file:\n",
        "    X_train_title_sparse = tfidf.fit_transform(input_train_file)"
      ],
      "execution_count": 10,
      "outputs": [
        {
          "output_type": "stream",
          "text": [
            "CPU times: user 2.22 s, sys: 72 ms, total: 2.29 s\n",
            "Wall time: 2.3 s\n"
          ],
          "name": "stdout"
        }
      ]
    },
    {
      "metadata": {
        "id": "DBbK3Qo5yNPO",
        "colab_type": "code",
        "outputId": "903119e1-b8e6-40d7-85f9-fff8800daba1",
        "colab": {
          "base_uri": "https://localhost:8080/",
          "height": 51
        }
      },
      "cell_type": "code",
      "source": [
        "%%time\n",
        "with open('test_title.txt', encoding='utf-8') as input_train_file:\n",
        "    X_test_title_sparse = tfidf.fit_transform(input_train_file)"
      ],
      "execution_count": 11,
      "outputs": [
        {
          "output_type": "stream",
          "text": [
            "CPU times: user 1.29 s, sys: 15 ms, total: 1.3 s\n",
            "Wall time: 1.31 s\n"
          ],
          "name": "stdout"
        }
      ]
    },
    {
      "metadata": {
        "id": "rBHWvaE1uvLO",
        "colab_type": "code",
        "outputId": "f6ea82fd-dcf4-4e0c-f5f0-dbb7683ff7c7",
        "colab": {
          "base_uri": "https://localhost:8080/",
          "height": 51
        }
      },
      "cell_type": "code",
      "source": [
        "%%time\n",
        "with open('train_content.txt', encoding='utf-8') as input_train_file:\n",
        "    X_train_content_sparse = tfidf.fit_transform(input_train_file)"
      ],
      "execution_count": 12,
      "outputs": [
        {
          "output_type": "stream",
          "text": [
            "CPU times: user 7min 25s, sys: 7.09 s, total: 7min 32s\n",
            "Wall time: 7min 32s\n"
          ],
          "name": "stdout"
        }
      ]
    },
    {
      "metadata": {
        "id": "ef8BwuY_yUfY",
        "colab_type": "code",
        "outputId": "b4f1dc68-6743-44da-ecd0-3fe89502fb85",
        "colab": {
          "base_uri": "https://localhost:8080/",
          "height": 51
        }
      },
      "cell_type": "code",
      "source": [
        "%%time\n",
        "with open('test_content.txt', encoding='utf-8') as input_train_file:\n",
        "    X_test_content_sparse = tfidf.fit_transform(input_train_file)"
      ],
      "execution_count": 13,
      "outputs": [
        {
          "output_type": "stream",
          "text": [
            "CPU times: user 4min 24s, sys: 2.6 s, total: 4min 27s\n",
            "Wall time: 4min 26s\n"
          ],
          "name": "stdout"
        }
      ]
    },
    {
      "metadata": {
        "id": "H9oLjcLaNvaK",
        "colab_type": "code",
        "outputId": "e82c7f33-3736-491e-9b61-25ec53edb247",
        "colab": {
          "base_uri": "https://localhost:8080/",
          "height": 173
        }
      },
      "cell_type": "code",
      "source": [
        "X_train_dttm_df=pd.read_csv('train_published.txt', header = None)\n",
        "X_train_dttm_df[0] = pd.to_datetime(X_train_dttm_df[0])\n",
        "X_train_dttm_df.head(5)\n",
        "X_train_time_feature = pd.DataFrame(index=X_train_dttm_df.index)\n",
        "X_train_time_feature['hour'] = X_train_dttm_df[0].apply(lambda ts: ts.hour).astype(np.int8)\n",
        "X_train_time_feature['dayofweek'] = X_train_dttm_df[0].apply(lambda ts: ts.dayofweek).astype(np.int8)\n",
        "X_train_time_feature['weekend'] = X_train_dttm_df[0].apply(lambda ts: ts.dayofweek > 5).astype(np.int8)\n",
        "X_train_time_feature['morning'] = X_train_dttm_df[0].apply(lambda ts: (ts.hour >= 7) & (ts.hour < 12)).astype(np.int8)\n",
        "X_train_time_feature.head() \n",
        "X_train_time_features_sparse = StandardScaler().fit_transform(X_train_time_feature[['hour']])\n",
        "X_train_time_features_sparse = StandardScaler().fit_transform(X_train_time_feature)"
      ],
      "execution_count": 14,
      "outputs": [
        {
          "output_type": "stream",
          "text": [
            "/usr/local/lib/python3.6/dist-packages/sklearn/preprocessing/data.py:625: DataConversionWarning: Data with input dtype int8 were all converted to float64 by StandardScaler.\n",
            "  return self.partial_fit(X, y)\n",
            "/usr/local/lib/python3.6/dist-packages/sklearn/base.py:462: DataConversionWarning: Data with input dtype int8 were all converted to float64 by StandardScaler.\n",
            "  return self.fit(X, **fit_params).transform(X)\n",
            "/usr/local/lib/python3.6/dist-packages/sklearn/preprocessing/data.py:625: DataConversionWarning: Data with input dtype int8 were all converted to float64 by StandardScaler.\n",
            "  return self.partial_fit(X, y)\n",
            "/usr/local/lib/python3.6/dist-packages/sklearn/base.py:462: DataConversionWarning: Data with input dtype int8 were all converted to float64 by StandardScaler.\n",
            "  return self.fit(X, **fit_params).transform(X)\n"
          ],
          "name": "stderr"
        }
      ]
    },
    {
      "metadata": {
        "id": "uVIZDePac5rz",
        "colab_type": "code",
        "outputId": "7c45c7e2-3236-407e-c148-1fb9f1aa1b95",
        "colab": {
          "base_uri": "https://localhost:8080/",
          "height": 122
        }
      },
      "cell_type": "code",
      "source": [
        "X_test_dttm_df=pd.read_csv('test_published.txt', header = None)\n",
        "X_test_dttm_df[0] = pd.to_datetime(X_test_dttm_df[0])\n",
        "X_test_dttm_df.head(5)\n",
        "X_test_time_feature = pd.DataFrame(index=X_test_dttm_df.index)\n",
        "X_test_time_feature['hour'] = X_test_dttm_df[0].apply(lambda ts: ts.hour).astype(np.int8)\n",
        "X_test_time_feature['dayofweek'] = X_test_dttm_df[0].apply(lambda ts: ts.dayofweek).astype(np.int8)\n",
        "X_test_time_feature['weekend'] = X_test_dttm_df[0].apply(lambda ts: ts.dayofweek > 5).astype(np.int8)\n",
        "X_test_time_feature['morning'] = X_test_dttm_df[0].apply(lambda ts: (ts.hour >= 7) & (ts.hour < 12)).astype(np.int8)\n",
        "X_test_time_feature.head() \n",
        "X_test_time_feature_sparse = StandardScaler().fit_transform(X_test_time_feature)\n",
        "X_test_time_feature.shape"
      ],
      "execution_count": 15,
      "outputs": [
        {
          "output_type": "stream",
          "text": [
            "/usr/local/lib/python3.6/dist-packages/sklearn/preprocessing/data.py:625: DataConversionWarning: Data with input dtype int8 were all converted to float64 by StandardScaler.\n",
            "  return self.partial_fit(X, y)\n",
            "/usr/local/lib/python3.6/dist-packages/sklearn/base.py:462: DataConversionWarning: Data with input dtype int8 were all converted to float64 by StandardScaler.\n",
            "  return self.fit(X, **fit_params).transform(X)\n"
          ],
          "name": "stderr"
        },
        {
          "output_type": "execute_result",
          "data": {
            "text/plain": [
              "(34645, 4)"
            ]
          },
          "metadata": {
            "tags": []
          },
          "execution_count": 15
        }
      ]
    },
    {
      "metadata": {
        "id": "FbfRsz9C991F",
        "colab_type": "code",
        "colab": {
          "base_uri": "https://localhost:8080/",
          "height": 204
        },
        "outputId": "191f3f03-e18e-42b9-cbb3-7e415772d630"
      },
      "cell_type": "code",
      "source": [
        "X_train_author_df=pd.read_csv('train_author.txt', delimiter = \"\\n\", header = None)\n",
        "X_train_author_df.head(5)"
      ],
      "execution_count": 16,
      "outputs": [
        {
          "output_type": "execute_result",
          "data": {
            "text/html": [
              "<div>\n",
              "<style scoped>\n",
              "    .dataframe tbody tr th:only-of-type {\n",
              "        vertical-align: middle;\n",
              "    }\n",
              "\n",
              "    .dataframe tbody tr th {\n",
              "        vertical-align: top;\n",
              "    }\n",
              "\n",
              "    .dataframe thead th {\n",
              "        text-align: right;\n",
              "    }\n",
              "</style>\n",
              "<table border=\"1\" class=\"dataframe\">\n",
              "  <thead>\n",
              "    <tr style=\"text-align: right;\">\n",
              "      <th></th>\n",
              "      <th>0</th>\n",
              "    </tr>\n",
              "  </thead>\n",
              "  <tbody>\n",
              "    <tr>\n",
              "      <th>0</th>\n",
              "      <td>Medium</td>\n",
              "    </tr>\n",
              "    <tr>\n",
              "      <th>1</th>\n",
              "      <td>Medium</td>\n",
              "    </tr>\n",
              "    <tr>\n",
              "      <th>2</th>\n",
              "      <td>Yun-Chen Chien（簡韻真）</td>\n",
              "    </tr>\n",
              "    <tr>\n",
              "      <th>3</th>\n",
              "      <td>Vaibhav Khulbe</td>\n",
              "    </tr>\n",
              "    <tr>\n",
              "      <th>4</th>\n",
              "      <td>Vaibhav Khulbe</td>\n",
              "    </tr>\n",
              "  </tbody>\n",
              "</table>\n",
              "</div>"
            ],
            "text/plain": [
              "                     0\n",
              "0               Medium\n",
              "1               Medium\n",
              "2  Yun-Chen Chien（簡韻真）\n",
              "3       Vaibhav Khulbe\n",
              "4       Vaibhav Khulbe"
            ]
          },
          "metadata": {
            "tags": []
          },
          "execution_count": 16
        }
      ]
    },
    {
      "metadata": {
        "id": "td1b2wKY8JRT",
        "colab_type": "code",
        "colab": {
          "base_uri": "https://localhost:8080/",
          "height": 122
        },
        "outputId": "3b5ed658-3801-448f-e126-f30e963ea56c"
      },
      "cell_type": "code",
      "source": [
        "X_train_author_df=pd.read_csv('train_author.txt', delimiter = \"\\n\", header = None)\n",
        "# define example\n",
        "#data = ['cold', 'cold', 'warm', 'cold', 'hot', 'hot', 'warm', 'cold', 'warm', 'hot']\n",
        "#values = array(data)\n",
        "values=array(X_train_author_df[0])\n",
        "#print(values)\n",
        "# integer encode\n",
        "label_encoder = LabelEncoder()\n",
        "integer_encoded = label_encoder.fit_transform(values)\n",
        "print(integer_encoded)\n",
        "# binary encode\n",
        "onehot_encoder = OneHotEncoder(sparse=True)\n",
        "integer_encoded = integer_encoded.reshape(len(integer_encoded), 1)\n",
        "onehot_encoded = onehot_encoder.fit_transform(integer_encoded)\n",
        "#print(onehot_encoded)\n",
        "# invert first example\n",
        "#inverted = label_encoder.inverse_transform([argmax(onehot_encoded[0, :])])\n",
        "#print(inverted)\n",
        "X_train_author_sparse=onehot_encoded\n"
      ],
      "execution_count": 17,
      "outputs": [
        {
          "output_type": "stream",
          "text": [
            "[18672 18672 29381 ... 11148 20527 11148]\n"
          ],
          "name": "stdout"
        },
        {
          "output_type": "stream",
          "text": [
            "/usr/local/lib/python3.6/dist-packages/sklearn/preprocessing/_encoders.py:368: FutureWarning: The handling of integer data will change in version 0.22. Currently, the categories are determined based on the range [0, max(values)], while in the future they will be determined based on the unique values.\n",
            "If you want the future behaviour and silence this warning, you can specify \"categories='auto'\".\n",
            "In case you used a LabelEncoder before this OneHotEncoder to convert the categories to integers, then you can now use the OneHotEncoder directly.\n",
            "  warnings.warn(msg, FutureWarning)\n"
          ],
          "name": "stderr"
        }
      ]
    },
    {
      "metadata": {
        "id": "JbfCR5BkAxwy",
        "colab_type": "code",
        "colab": {
          "base_uri": "https://localhost:8080/",
          "height": 122
        },
        "outputId": "4be23746-d549-4944-8def-8e5d49ba05df"
      },
      "cell_type": "code",
      "source": [
        "X_test_author_df=pd.read_csv('test_author.txt', delimiter = \"\\n\", header = None)\n",
        "# define example\n",
        "#data = ['cold', 'cold', 'warm', 'cold', 'hot', 'hot', 'warm', 'cold', 'warm', 'hot']\n",
        "#values = array(data)\n",
        "values=array(X_test_author_df[0])\n",
        "#print(values)\n",
        "# integer encode\n",
        "label_encoder = LabelEncoder()\n",
        "integer_encoded = label_encoder.fit_transform(values)\n",
        "print(integer_encoded)\n",
        "# binary encode\n",
        "onehot_encoder = OneHotEncoder(sparse=False)\n",
        "integer_encoded = integer_encoded.reshape(len(integer_encoded), 1)\n",
        "onehot_encoded = onehot_encoder.fit_transform(integer_encoded)\n",
        "#print(onehot_encoded)\n",
        "# invert first example\n",
        "#inverted = label_encoder.inverse_transform([argmax(onehot_encoded[0, :])])\n",
        "#print(inverted)\n",
        "X_test_author_sparse=onehot_encoded"
      ],
      "execution_count": 18,
      "outputs": [
        {
          "output_type": "stream",
          "text": [
            "[ 6383 10333  6383 ... 12072 14839   723]\n"
          ],
          "name": "stdout"
        },
        {
          "output_type": "stream",
          "text": [
            "/usr/local/lib/python3.6/dist-packages/sklearn/preprocessing/_encoders.py:368: FutureWarning: The handling of integer data will change in version 0.22. Currently, the categories are determined based on the range [0, max(values)], while in the future they will be determined based on the unique values.\n",
            "If you want the future behaviour and silence this warning, you can specify \"categories='auto'\".\n",
            "In case you used a LabelEncoder before this OneHotEncoder to convert the categories to integers, then you can now use the OneHotEncoder directly.\n",
            "  warnings.warn(msg, FutureWarning)\n"
          ],
          "name": "stderr"
        }
      ]
    },
    {
      "metadata": {
        "id": "aFm_zPiUEX61",
        "colab_type": "text"
      },
      "cell_type": "markdown",
      "source": [
        "**Join all sparse matrices.**"
      ]
    },
    {
      "metadata": {
        "id": "BqgMernSEX62",
        "colab_type": "code",
        "colab": {}
      },
      "cell_type": "code",
      "source": [
        "#X_train_sparse = hstack([X_train_content_sparse, X_train_title_sparse,\n",
        "                         #X_train_author_sparse, \n",
        "                         #X_train_time_features_sparse]).tocsr()\n",
        "#X_train_sparse = hstack([X_train_title_sparse,\n",
        "                         #X_train_content_sparse, \n",
        "                         #X_train_time_features_sparse\n",
        "                         #]).tocsr()\n",
        "\n",
        "X_train_sparse = csr_matrix(hstack([X_train_content_sparse,X_train_title_sparse,\n",
        "                         X_train_author_sparse,     \n",
        "                         X_train_time_features_sparse\n",
        "                         ]))\n"
      ],
      "execution_count": 0,
      "outputs": []
    },
    {
      "metadata": {
        "id": "GmD0SkZnEX65",
        "colab_type": "code",
        "colab": {}
      },
      "cell_type": "code",
      "source": [
        "#X_test_sparse = hstack([X_test_content_sparse, X_test_title_sparse,\n",
        "                        #X_test_author_sparse, \n",
        "                        #X_test_time_features_sparse]).tocsr()\n",
        "#X_test_sparse = hstack([X_test_content_sparse, X_test_title_sparse,\n",
        "                        #X_test_time_features_sparse]).tocsr()\n",
        "X_test_sparse = csr_matrix(hstack([X_test_content_sparse,X_test_title_sparse,\n",
        "                         X_test_author_sparse, \n",
        "                         X_test_time_feature_sparse\n",
        "                         ]))"
      ],
      "execution_count": 0,
      "outputs": []
    },
    {
      "metadata": {
        "id": "wTBMQwMhEX6_",
        "colab_type": "text"
      },
      "cell_type": "markdown",
      "source": [
        "**Read train target and split data for validation.**"
      ]
    },
    {
      "metadata": {
        "id": "5ZFTCUBoEX7A",
        "colab_type": "code",
        "colab": {}
      },
      "cell_type": "code",
      "source": [
        "train_target = pd.read_csv(os.path.join(PATH_TO_DATA, 'train_log1p_recommends.csv'), \n",
        "                           index_col='id')\n",
        "y_train = train_target['log_recommends'].values"
      ],
      "execution_count": 0,
      "outputs": []
    },
    {
      "metadata": {
        "id": "im_xitzGEX7D",
        "colab_type": "code",
        "colab": {}
      },
      "cell_type": "code",
      "source": [
        "train_part_size = int(0.7 * train_target.shape[0])\n",
        "X_train_part_sparse = X_train_sparse[:train_part_size, :]\n",
        "y_train_part = y_train[:train_part_size]\n",
        "X_valid_sparse =  X_train_sparse[train_part_size:, :]\n",
        "y_valid = y_train[train_part_size:]\n"
      ],
      "execution_count": 0,
      "outputs": []
    },
    {
      "metadata": {
        "id": "NgQlIaRRzvVV",
        "colab_type": "code",
        "colab": {}
      },
      "cell_type": "code",
      "source": [
        "plt.hist(y_train, bins=30, alpha=.5, color='red', \n",
        "         label='original', range=(0,10));\n",
        "plt.hist(np.log1p(y_train), bins=30, alpha=.5, color='green', \n",
        "         label='log1p', range=(0,10));\n",
        "plt.legend();"
      ],
      "execution_count": 0,
      "outputs": []
    },
    {
      "metadata": {
        "id": "68E11zYWEX7G",
        "colab_type": "text"
      },
      "cell_type": "markdown",
      "source": [
        "**Train a simple Ridge model and check MAE on the validation set.**"
      ]
    },
    {
      "metadata": {
        "id": "-mnDcBs3EX7H",
        "colab_type": "code",
        "colab": {}
      },
      "cell_type": "code",
      "source": [
        "ridge = Ridge(random_state=17)"
      ],
      "execution_count": 0,
      "outputs": []
    },
    {
      "metadata": {
        "id": "0vaVVhWP0NLq",
        "colab_type": "code",
        "colab": {}
      },
      "cell_type": "code",
      "source": [
        "%%time\n",
        "ridge.fit(X_train_part_sparse, np.log1p(y_train_part));"
      ],
      "execution_count": 0,
      "outputs": []
    },
    {
      "metadata": {
        "id": "7HQVzEr_EX7L",
        "colab_type": "text"
      },
      "cell_type": "markdown",
      "source": [
        "**Train the same Ridge with all available data, make predictions for the test set and form a submission file.**"
      ]
    },
    {
      "metadata": {
        "id": "QieqVo6lEX7M",
        "colab_type": "code",
        "colab": {}
      },
      "cell_type": "code",
      "source": [
        "%%time\n",
        "ridge.fit(X_train_sparse, np.log1p(y_train));"
      ],
      "execution_count": 0,
      "outputs": []
    },
    {
      "metadata": {
        "id": "jBjWn-QM2z97",
        "colab_type": "code",
        "colab": {}
      },
      "cell_type": "code",
      "source": [
        "%%time\n",
        "ridge_test_pred = np.expm1(ridge.predict(X_test_sparse))\n",
        "print(ridge_test_pred)"
      ],
      "execution_count": 0,
      "outputs": []
    },
    {
      "metadata": {
        "id": "YWcy0PipEX7T",
        "colab_type": "code",
        "colab": {}
      },
      "cell_type": "code",
      "source": [
        "def write_submission_file(prediction, filename,\n",
        "                          path_to_sample=os.path.join(PATH_TO_DATA, \n",
        "                                                      'sample_submission.csv')):\n",
        "    submission = pd.read_csv(path_to_sample, index_col='id')\n",
        "    \n",
        "    submission['log_recommends'] = prediction\n",
        "    submission.to_csv(filename)"
      ],
      "execution_count": 0,
      "outputs": []
    },
    {
      "metadata": {
        "id": "J6cSRl9XEX7b",
        "colab_type": "code",
        "colab": {}
      },
      "cell_type": "code",
      "source": [
        "write_submission_file(ridge_test_pred, os.path.join(PATH_TO_DATA,\n",
        "                                                    'assignment2_medium_submission.csv'))"
      ],
      "execution_count": 0,
      "outputs": []
    },
    {
      "metadata": {
        "id": "6QmbwdFeEX7j",
        "colab_type": "text"
      },
      "cell_type": "markdown",
      "source": [
        "**Now's the time for dirty Kaggle hacks. Form a submission file with all zeros. Make a submission. What do you get if you think about it? How is it going to help you with modifying your predictions?**\n",
        "\n",
        "**UPD:** There is a [tutorial](https://nbviewer.jupyter.org/github/Yorko/mlcourse.ai/blob/master/jupyter_english/tutorials/kaggle_leaderboard_probing_nikolai_timonin.ipynb) on leaderboard probing which is written within mlcourse.ai and is relevant here. (Originally, contestants were supposed to come up with simple probing techniques on their own. But now when this tutorial is shared, we eliminate \"discovery bias\" and equalize everybody's chances by sharing this tutorial)."
      ]
    },
    {
      "metadata": {
        "id": "H0p9YLwHEX7l",
        "colab_type": "code",
        "colab": {}
      },
      "cell_type": "code",
      "source": [
        "write_submission_file(np.zeros_like(ridge_test_pred), \n",
        "                      os.path.join(PATH_TO_DATA,\n",
        "                                   'medium_all_zeros_submission.csv'))"
      ],
      "execution_count": 0,
      "outputs": []
    },
    {
      "metadata": {
        "id": "fmHzYMoIEX7p",
        "colab_type": "text"
      },
      "cell_type": "markdown",
      "source": [
        "**Modify predictions in an appropriate way (based on your all-zero submission) and make a new submission.**"
      ]
    },
    {
      "metadata": {
        "id": "-psOVMosEX7q",
        "colab_type": "code",
        "colab": {}
      },
      "cell_type": "code",
      "source": [
        "ridge_test_pred_modif = ridge_test_pred # You code here"
      ],
      "execution_count": 0,
      "outputs": []
    },
    {
      "metadata": {
        "id": "uxceg1cgEX7u",
        "colab_type": "code",
        "colab": {}
      },
      "cell_type": "code",
      "source": [
        "write_submission_file(ridge_test_pred_modif, \n",
        "                      os.path.join(PATH_TO_DATA,\n",
        "                                   'assignment2_medium_submission_with_hack.csv'))"
      ],
      "execution_count": 0,
      "outputs": []
    },
    {
      "metadata": {
        "id": "BYUNjeecEX7y",
        "colab_type": "text"
      },
      "cell_type": "markdown",
      "source": [
        "Some ideas for improvement:\n",
        "\n",
        "- Engineer good features, this is the key to success. Some simple features will be based on publication time, authors, content length and so on\n",
        "- You may not ignore HTML and extract some features from there\n",
        "- You'd better experiment with your validation scheme. You should see a correlation between your local improvements and LB score\n",
        "- Try TF-IDF, ngrams, Word2Vec and GloVe embeddings\n",
        "- Try various NLP techniques like stemming and lemmatization\n",
        "- Tune hyperparameters. In our example, we've left only 50k features and used C=1 as a regularization parameter, this can be changed\n",
        "- SGD and Vowpal Wabbit will learn much faster\n",
        "- Play around with blending and/or stacking. An intro is given in [this Kernel](https://www.kaggle.com/kashnitsky/ridge-and-lightgbm-simple-blending) by @yorko \n",
        "- In our course, we don't cover neural nets. But it's not obliged to use GRUs/LSTMs/whatever in this competition.\n",
        "\n",
        "Good luck!\n",
        "\n",
        "<img src='https://github.com/athiagarajan/alicecatchmeifucan/img/kaggle_shakeup.png?raw=1' width=50%>"
      ]
    }
  ]
}