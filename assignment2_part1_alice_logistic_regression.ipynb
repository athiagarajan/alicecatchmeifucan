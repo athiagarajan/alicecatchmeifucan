{
  "nbformat": 4,
  "nbformat_minor": 0,
  "metadata": {
    "colab": {
      "name": "assignment2_part1_alice_logistic_regression.ipynb",
      "version": "0.3.2",
      "provenance": [],
      "collapsed_sections": [],
      "toc_visible": true,
      "include_colab_link": true
    },
    "kernelspec": {
      "display_name": "Python 3",
      "language": "python",
      "name": "python3"
    }
  },
  "cells": [
    {
      "cell_type": "markdown",
      "metadata": {
        "id": "view-in-github",
        "colab_type": "text"
      },
      "source": [
        "<a href=\"https://colab.research.google.com/github/athiagarajan/alicecatchmeifucan/blob/master/assignment2_part1_alice_logistic_regression.ipynb\" target=\"_parent\"><img src=\"https://colab.research.google.com/assets/colab-badge.svg\" alt=\"Open In Colab\"/></a>"
      ]
    },
    {
      "metadata": {
        "id": "ehJJS2pgQFfj",
        "colab_type": "text"
      },
      "cell_type": "markdown",
      "source": [
        "<center>\n",
        "<img src=\"../../img/ods_stickers.jpg\" />\n",
        "    \n",
        "## [mlcourse.ai](https://mlcourse.ai) – Open Machine Learning Course \n",
        "Authors: [Yury Kashnitskiy](https://yorko.github.io) (@yorko), Yury Isakov. Edited by Anna Tarelina (@feuerengel), and Kolchenko Sergey (@KolchenkoSergey). This material is subject to the terms and conditions of the [Creative Commons CC BY-NC-SA 4.0](https://creativecommons.org/licenses/by-nc-sa/4.0/) license. Free use is permitted for any non-commercial purpose."
      ]
    },
    {
      "metadata": {
        "id": "9Raqzr49QFfo",
        "colab_type": "text"
      },
      "cell_type": "markdown",
      "source": [
        "# <center> Assignment #2. Spring 2019\n",
        "## <center>  Competition 1. User Identification with Logistic Regression <br>(beating baselines in the \"Alice\" competition)\n",
        "\n",
        "    \n",
        "Today we are going to practice working with sparse matrices, training Logistic Regression models, and doing feature engineering. We will reproduce a couple of baselines in the  Kaggle Inclass competition [\"Catch Me If You Can: Intruder Detection through Webpage Session Tracking\"](https://www.kaggle.com/c/catch-me-if-you-can-intruder-detection-through-webpage-session-tracking2) (a.k.a. \"Alice\"). More credits will be given for beating stronger baselines. \n",
        "\n",
        "Prior to working on the assignment, you'd better check out the corresponding course material:\n",
        " 1. [Classification, Decision Trees and k Nearest Neighbors](https://nbviewer.jupyter.org/github/Yorko/mlcourse_open/blob/master/jupyter_english/topic03_decision_trees_kNN/topic3_decision_trees_kNN.ipynb?flush_cache=true), the same as an interactive web-based [Kaggle Kernel](https://www.kaggle.com/kashnitsky/topic-3-decision-trees-and-knn) (basics of machine learning are covered here)\n",
        " 2. Linear classification and regression in 5 parts: \n",
        "    - [ordinary least squares](https://www.kaggle.com/kashnitsky/topic-4-linear-models-part-1-ols)\n",
        "    - [linear classification](https://www.kaggle.com/kashnitsky/topic-4-linear-models-part-2-classification)\n",
        "    - [regularization](https://www.kaggle.com/kashnitsky/topic-4-linear-models-part-3-regularization)\n",
        "    - [logistic regression: pros and cons](https://www.kaggle.com/kashnitsky/topic-4-linear-models-part-4-more-of-logit)\n",
        "    - [validation](https://www.kaggle.com/kashnitsky/topic-4-linear-models-part-5-validation)\n",
        " 3. You can also practice with demo assignments, which are simpler and already shared with solutions: \n",
        "    - \" Sarcasm detection with logistic regression\": [assignment](https://www.kaggle.com/kashnitsky/a4-demo-sarcasm-detection-with-logit) + [solution](https://www.kaggle.com/kashnitsky/a4-demo-sarcasm-detection-with-logit-solution)\n",
        "    - \"Linear regression as optimization\": [assignment](https://www.kaggle.com/kashnitsky/a4-demo-linear-regression-as-optimization/edit) (solution cannot be officially shared)\n",
        "    - \"Exploring OLS, Lasso and Random Forest in a regression task\": [assignment](https://www.kaggle.com/kashnitsky/a6-demo-linear-models-and-rf-for-regression) + [solution](https://www.kaggle.com/kashnitsky/a6-demo-regression-solution)\n",
        " 4. Alice baseline with logistic regression and \"bag of sites\", [Kernel](https://www.kaggle.com/kashnitsky/alice-logistic-regression-baseline)\n",
        " 5. Correct time-aware cross-validation scheme, more features, and hyperparameter optimization, [Kernel](https://www.kaggle.com/kashnitsky/correct-time-aware-cross-validation-scheme)\n",
        " 6. Other [Kernels](https://www.kaggle.com/c/catch-me-if-you-can-intruder-detection-through-webpage-session-tracking2/kernels?sortBy=voteCount&group=everyone&pageSize=20&competitionId=7173) in this competition. You can share yours as well, but not high-performing ones (Public LB MAE shall be < 0.95). Please don't spoil the competitive spirit.\n",
        " 7. If that's still not enough, watch two videos on logistic regression: [mlcourse.ai/video](https://mlcourse.ai/video)\n",
        "\n",
        "**Your task:**\n",
        " 1. \"Follow me\". Complete the missing code and submit your answers via [the google form](https://docs.google.com/forms/d/15PVw9CYlX6QnxRHKIDS161kGAq3v7iiO15W3qKTePEY). Use **the same email** as in A1 (for newcomers: remember your email and use it for all forms during the course). 12 credits max. for this part\n",
        " 2. \"Freeride\". Come up with good features to beat the baselines \"A2 baseline (10 credits)\" and \"A2 strong baseline (20 credits)\". As names suggest, you'll get 10 more credits for beating the first one, and 10 more (20 in total) for beating the second one. You need to name your [team](https://www.kaggle.com/c/catch-me-if-you-can-intruder-detection-through-webpage-session-tracking2/team) (out of 1 person) in full accordance with the [course rating](https://docs.google.com/spreadsheets/d/1LAy1eK8vIONzIWgcCEaVmhKPSj579zK5lrECf_tQT60/edit?usp=sharing) (for newcomers: you need to name your team with your real full name). You can think of it as a part of the assignment.\n",
        " 3. If you've beaten \"A2 baseline (10 credits)\" or performed better, you need to upload your solution as described in [course roadmap](https://mlcourse.ai/roadmap) (\"Kaggle Inclass Competition Alice\" -> Rules). For all baselines that you see on Public Leaderboard, it's OK to beat them on Public LB as well. But 10 winners will be defined according to the private LB, which will be revealed by @yorko on March 11. \n",
        " \n",
        " ### <center> Deadline for A2: 2019 March 10, 20:59 GMT (London time)\n",
        "    \n",
        "### How to get help\n",
        "In [ODS Slack](https://opendatascience.slack.com) (if you still don't have access, fill in the [form](https://docs.google.com/forms/d/1BMqcUc-hIQXa0HB_Q2Oa8vWBtGHXk8a6xo5gPnMKYKA/edit) mentioned on the mlcourse.ai main page), we have a channel **#mlcourse_ai_news** with announcements from the course team.\n",
        "You can discuss the course content freely in the **#mlcourse_ai** channel (we still have a huge Russian-speaking group, they have a separate channel **#mlcourse_ai_rus**).\n",
        "\n",
        "Please stick to special threads for your questions:\n",
        " - [#a2_q1](https://opendatascience.slack.com/archives/C91N8TL83/p1549882527050500) for question 1 below\n",
        " - ...\n",
        " - [#a2_q8](https://opendatascience.slack.com/archives/C91N8TL83/p1549882547051900) for question 8 below\n",
        " - [#a2_alice](https://opendatascience.slack.com/archives/C91N8TL83/p1549882561052200) for general questions on the 1st competition\n",
        " \n",
        "Help each other without sharing correct code and answers. Our TA Aditya @ecdrid is there to help (only in the mentioned threads, do not write to him directly)."
      ]
    },
    {
      "metadata": {
        "id": "rpibSCYSQFfs",
        "colab_type": "text"
      },
      "cell_type": "markdown",
      "source": [
        "# Part 1. Follow me"
      ]
    },
    {
      "metadata": {
        "id": "lWRCao0yQFfv",
        "colab_type": "text"
      },
      "cell_type": "markdown",
      "source": [
        "<img src='../../img/followme_alice.png' width=50%>\n",
        "\n",
        "*image credit [@muradosmann](https://www.instagram.com/muradosmann/?hl=en)*"
      ]
    },
    {
      "metadata": {
        "id": "tAdpMT1JQFfy",
        "colab_type": "code",
        "colab": {}
      },
      "cell_type": "code",
      "source": [
        "# Import libraries and set desired options\n",
        "import pickle\n",
        "import numpy as np\n",
        "import pandas as pd\n",
        "from scipy.sparse import csr_matrix, hstack\n",
        "from sklearn.preprocessing import StandardScaler\n",
        "from sklearn.metrics import roc_auc_score\n",
        "from sklearn.linear_model import LogisticRegression\n",
        "from matplotlib import pyplot as plt\n",
        "import seaborn as sns\n",
        "sns.set()"
      ],
      "execution_count": 0,
      "outputs": []
    },
    {
      "metadata": {
        "id": "3uxMIzMsQFf5",
        "colab_type": "text"
      },
      "cell_type": "markdown",
      "source": [
        "##### Problem description\n",
        "\n",
        "In this competition, we'll analyze the sequence of websites consequently visited by a particular person and try to predict whether this person is Alice or someone else. As a metric we will use [ROC AUC](https://en.wikipedia.org/wiki/Receiver_operating_characteristic)."
      ]
    },
    {
      "metadata": {
        "id": "TGFMY46gQFf6",
        "colab_type": "text"
      },
      "cell_type": "markdown",
      "source": [
        "### 1. Data Downloading and Transformation\n",
        "Register on [Kaggle](www.kaggle.com), if you have not done it before.\n",
        "Go to the competition [page](https://inclass.kaggle.com/c/catch-me-if-you-can-intruder-detection-through-webpage-session-tracking2) and download the data.\n",
        "\n",
        "First, read the training and test sets. Then we'll explore the data in hand and do a couple of simple exercises. "
      ]
    },
    {
      "metadata": {
        "scrolled": true,
        "id": "1kaajEI4QFf8",
        "colab_type": "code",
        "colab": {
          "base_uri": "https://localhost:8080/",
          "height": 454
        },
        "outputId": "a7d68df2-a9b5-4191-c1d5-27902d32abae"
      },
      "cell_type": "code",
      "source": [
        "# Read the training and test data sets, change paths if needed\n",
        "times = ['time%s' % i for i in range(1, 11)]\n",
        "train_df = pd.read_csv('./train_sessions.csv',\n",
        "                       index_col='session_id', parse_dates=times)\n",
        "test_df = pd.read_csv('./test_sessions.csv',\n",
        "                      index_col='session_id', parse_dates=times)\n",
        "\n",
        "# Sort the data by time\n",
        "train_df = train_df.sort_values(by='time1')\n",
        "\n",
        "# Look at the first rows of the training set\n",
        "train_df.head()"
      ],
      "execution_count": 3,
      "outputs": [
        {
          "output_type": "execute_result",
          "data": {
            "text/html": [
              "<div>\n",
              "<style scoped>\n",
              "    .dataframe tbody tr th:only-of-type {\n",
              "        vertical-align: middle;\n",
              "    }\n",
              "\n",
              "    .dataframe tbody tr th {\n",
              "        vertical-align: top;\n",
              "    }\n",
              "\n",
              "    .dataframe thead th {\n",
              "        text-align: right;\n",
              "    }\n",
              "</style>\n",
              "<table border=\"1\" class=\"dataframe\">\n",
              "  <thead>\n",
              "    <tr style=\"text-align: right;\">\n",
              "      <th></th>\n",
              "      <th>site1</th>\n",
              "      <th>time1</th>\n",
              "      <th>site2</th>\n",
              "      <th>time2</th>\n",
              "      <th>site3</th>\n",
              "      <th>time3</th>\n",
              "      <th>site4</th>\n",
              "      <th>time4</th>\n",
              "      <th>site5</th>\n",
              "      <th>time5</th>\n",
              "      <th>...</th>\n",
              "      <th>time6</th>\n",
              "      <th>site7</th>\n",
              "      <th>time7</th>\n",
              "      <th>site8</th>\n",
              "      <th>time8</th>\n",
              "      <th>site9</th>\n",
              "      <th>time9</th>\n",
              "      <th>site10</th>\n",
              "      <th>time10</th>\n",
              "      <th>target</th>\n",
              "    </tr>\n",
              "    <tr>\n",
              "      <th>session_id</th>\n",
              "      <th></th>\n",
              "      <th></th>\n",
              "      <th></th>\n",
              "      <th></th>\n",
              "      <th></th>\n",
              "      <th></th>\n",
              "      <th></th>\n",
              "      <th></th>\n",
              "      <th></th>\n",
              "      <th></th>\n",
              "      <th></th>\n",
              "      <th></th>\n",
              "      <th></th>\n",
              "      <th></th>\n",
              "      <th></th>\n",
              "      <th></th>\n",
              "      <th></th>\n",
              "      <th></th>\n",
              "      <th></th>\n",
              "      <th></th>\n",
              "      <th></th>\n",
              "    </tr>\n",
              "  </thead>\n",
              "  <tbody>\n",
              "    <tr>\n",
              "      <th>21669</th>\n",
              "      <td>56</td>\n",
              "      <td>2013-01-12 08:05:57</td>\n",
              "      <td>55.0</td>\n",
              "      <td>2013-01-12 08:05:57</td>\n",
              "      <td>NaN</td>\n",
              "      <td>NaT</td>\n",
              "      <td>NaN</td>\n",
              "      <td>NaT</td>\n",
              "      <td>NaN</td>\n",
              "      <td>NaT</td>\n",
              "      <td>...</td>\n",
              "      <td>NaT</td>\n",
              "      <td>NaN</td>\n",
              "      <td>NaT</td>\n",
              "      <td>NaN</td>\n",
              "      <td>NaT</td>\n",
              "      <td>NaN</td>\n",
              "      <td>NaT</td>\n",
              "      <td>NaN</td>\n",
              "      <td>NaT</td>\n",
              "      <td>0</td>\n",
              "    </tr>\n",
              "    <tr>\n",
              "      <th>54843</th>\n",
              "      <td>56</td>\n",
              "      <td>2013-01-12 08:37:23</td>\n",
              "      <td>55.0</td>\n",
              "      <td>2013-01-12 08:37:23</td>\n",
              "      <td>56.0</td>\n",
              "      <td>2013-01-12 09:07:07</td>\n",
              "      <td>55.0</td>\n",
              "      <td>2013-01-12 09:07:09</td>\n",
              "      <td>NaN</td>\n",
              "      <td>NaT</td>\n",
              "      <td>...</td>\n",
              "      <td>NaT</td>\n",
              "      <td>NaN</td>\n",
              "      <td>NaT</td>\n",
              "      <td>NaN</td>\n",
              "      <td>NaT</td>\n",
              "      <td>NaN</td>\n",
              "      <td>NaT</td>\n",
              "      <td>NaN</td>\n",
              "      <td>NaT</td>\n",
              "      <td>0</td>\n",
              "    </tr>\n",
              "    <tr>\n",
              "      <th>77292</th>\n",
              "      <td>946</td>\n",
              "      <td>2013-01-12 08:50:13</td>\n",
              "      <td>946.0</td>\n",
              "      <td>2013-01-12 08:50:14</td>\n",
              "      <td>951.0</td>\n",
              "      <td>2013-01-12 08:50:15</td>\n",
              "      <td>946.0</td>\n",
              "      <td>2013-01-12 08:50:15</td>\n",
              "      <td>946.0</td>\n",
              "      <td>2013-01-12 08:50:16</td>\n",
              "      <td>...</td>\n",
              "      <td>2013-01-12 08:50:16</td>\n",
              "      <td>948.0</td>\n",
              "      <td>2013-01-12 08:50:16</td>\n",
              "      <td>784.0</td>\n",
              "      <td>2013-01-12 08:50:16</td>\n",
              "      <td>949.0</td>\n",
              "      <td>2013-01-12 08:50:17</td>\n",
              "      <td>946.0</td>\n",
              "      <td>2013-01-12 08:50:17</td>\n",
              "      <td>0</td>\n",
              "    </tr>\n",
              "    <tr>\n",
              "      <th>114021</th>\n",
              "      <td>945</td>\n",
              "      <td>2013-01-12 08:50:17</td>\n",
              "      <td>948.0</td>\n",
              "      <td>2013-01-12 08:50:17</td>\n",
              "      <td>949.0</td>\n",
              "      <td>2013-01-12 08:50:18</td>\n",
              "      <td>948.0</td>\n",
              "      <td>2013-01-12 08:50:18</td>\n",
              "      <td>945.0</td>\n",
              "      <td>2013-01-12 08:50:18</td>\n",
              "      <td>...</td>\n",
              "      <td>2013-01-12 08:50:18</td>\n",
              "      <td>947.0</td>\n",
              "      <td>2013-01-12 08:50:19</td>\n",
              "      <td>945.0</td>\n",
              "      <td>2013-01-12 08:50:19</td>\n",
              "      <td>946.0</td>\n",
              "      <td>2013-01-12 08:50:19</td>\n",
              "      <td>946.0</td>\n",
              "      <td>2013-01-12 08:50:20</td>\n",
              "      <td>0</td>\n",
              "    </tr>\n",
              "    <tr>\n",
              "      <th>146670</th>\n",
              "      <td>947</td>\n",
              "      <td>2013-01-12 08:50:20</td>\n",
              "      <td>950.0</td>\n",
              "      <td>2013-01-12 08:50:20</td>\n",
              "      <td>948.0</td>\n",
              "      <td>2013-01-12 08:50:20</td>\n",
              "      <td>947.0</td>\n",
              "      <td>2013-01-12 08:50:21</td>\n",
              "      <td>950.0</td>\n",
              "      <td>2013-01-12 08:50:21</td>\n",
              "      <td>...</td>\n",
              "      <td>2013-01-12 08:50:21</td>\n",
              "      <td>946.0</td>\n",
              "      <td>2013-01-12 08:50:21</td>\n",
              "      <td>951.0</td>\n",
              "      <td>2013-01-12 08:50:22</td>\n",
              "      <td>946.0</td>\n",
              "      <td>2013-01-12 08:50:22</td>\n",
              "      <td>947.0</td>\n",
              "      <td>2013-01-12 08:50:22</td>\n",
              "      <td>0</td>\n",
              "    </tr>\n",
              "  </tbody>\n",
              "</table>\n",
              "<p>5 rows × 21 columns</p>\n",
              "</div>"
            ],
            "text/plain": [
              "            site1               time1  site2               time2  site3  \\\n",
              "session_id                                                                \n",
              "21669          56 2013-01-12 08:05:57   55.0 2013-01-12 08:05:57    NaN   \n",
              "54843          56 2013-01-12 08:37:23   55.0 2013-01-12 08:37:23   56.0   \n",
              "77292         946 2013-01-12 08:50:13  946.0 2013-01-12 08:50:14  951.0   \n",
              "114021        945 2013-01-12 08:50:17  948.0 2013-01-12 08:50:17  949.0   \n",
              "146670        947 2013-01-12 08:50:20  950.0 2013-01-12 08:50:20  948.0   \n",
              "\n",
              "                         time3  site4               time4  site5  \\\n",
              "session_id                                                         \n",
              "21669                      NaT    NaN                 NaT    NaN   \n",
              "54843      2013-01-12 09:07:07   55.0 2013-01-12 09:07:09    NaN   \n",
              "77292      2013-01-12 08:50:15  946.0 2013-01-12 08:50:15  946.0   \n",
              "114021     2013-01-12 08:50:18  948.0 2013-01-12 08:50:18  945.0   \n",
              "146670     2013-01-12 08:50:20  947.0 2013-01-12 08:50:21  950.0   \n",
              "\n",
              "                         time5  ...                 time6  site7  \\\n",
              "session_id                      ...                                \n",
              "21669                      NaT  ...                   NaT    NaN   \n",
              "54843                      NaT  ...                   NaT    NaN   \n",
              "77292      2013-01-12 08:50:16  ...   2013-01-12 08:50:16  948.0   \n",
              "114021     2013-01-12 08:50:18  ...   2013-01-12 08:50:18  947.0   \n",
              "146670     2013-01-12 08:50:21  ...   2013-01-12 08:50:21  946.0   \n",
              "\n",
              "                         time7  site8               time8  site9  \\\n",
              "session_id                                                         \n",
              "21669                      NaT    NaN                 NaT    NaN   \n",
              "54843                      NaT    NaN                 NaT    NaN   \n",
              "77292      2013-01-12 08:50:16  784.0 2013-01-12 08:50:16  949.0   \n",
              "114021     2013-01-12 08:50:19  945.0 2013-01-12 08:50:19  946.0   \n",
              "146670     2013-01-12 08:50:21  951.0 2013-01-12 08:50:22  946.0   \n",
              "\n",
              "                         time9 site10              time10 target  \n",
              "session_id                                                        \n",
              "21669                      NaT    NaN                 NaT      0  \n",
              "54843                      NaT    NaN                 NaT      0  \n",
              "77292      2013-01-12 08:50:17  946.0 2013-01-12 08:50:17      0  \n",
              "114021     2013-01-12 08:50:19  946.0 2013-01-12 08:50:20      0  \n",
              "146670     2013-01-12 08:50:22  947.0 2013-01-12 08:50:22      0  \n",
              "\n",
              "[5 rows x 21 columns]"
            ]
          },
          "metadata": {
            "tags": []
          },
          "execution_count": 3
        }
      ]
    },
    {
      "metadata": {
        "id": "Q6FqS2dKQFgI",
        "colab_type": "text"
      },
      "cell_type": "markdown",
      "source": [
        "The training data set contains the following features:\n",
        "\n",
        "- **site1** – id of the first visited website in the session\n",
        "- **time1** – visiting time for the first website in the session\n",
        "- ...\n",
        "- **site10** – id of the tenth visited website in the session\n",
        "- **time10** – visiting time for the tenth website in the session\n",
        "- **target** – target variable, 1 for Alice's sessions, and 0 for the other users' sessions\n",
        "    \n",
        "User sessions are chosen in the way that they are shorter than 30 min. long and contain no more than 10 websites. I.e. a session is considered over either if a user has visited 10 websites or if a session has lasted over 30 minutes.\n",
        "\n",
        "There are some empty values in the table, it means that some sessions contain less than ten websites. Replace empty values with 0 and change columns types to integer. Also load the websites dictionary and check how it looks like:"
      ]
    },
    {
      "metadata": {
        "id": "V30fpTweQFgJ",
        "colab_type": "code",
        "colab": {
          "base_uri": "https://localhost:8080/",
          "height": 221
        },
        "outputId": "68cc02c8-a1cc-40aa-8c76-1bdaa884dd9b"
      },
      "cell_type": "code",
      "source": [
        "# Change site1, ..., site10 columns type to integer and fill NA-values with zeros\n",
        "sites = ['site%s' % i for i in range(1, 11)]\n",
        "train_df[sites] = train_df[sites].fillna(0).astype(np.uint16)\n",
        "test_df[sites] = test_df[sites].fillna(0).astype(np.uint16)\n",
        "\n",
        "# Load websites dictionary\n",
        "with open(r\"./site_dic.pkl\", \"rb\") as input_file:\n",
        "    site_dict = pickle.load(input_file)\n",
        "\n",
        "# Create dataframe for the dictionary\n",
        "sites_dict = pd.DataFrame(list(site_dict.keys()), index=list(site_dict.values()), \n",
        "                          columns=['site'])\n",
        "print(u'Websites total:', sites_dict.shape[0])\n",
        "sites_dict.head()"
      ],
      "execution_count": 4,
      "outputs": [
        {
          "output_type": "stream",
          "text": [
            "Websites total: 48371\n"
          ],
          "name": "stdout"
        },
        {
          "output_type": "execute_result",
          "data": {
            "text/html": [
              "<div>\n",
              "<style scoped>\n",
              "    .dataframe tbody tr th:only-of-type {\n",
              "        vertical-align: middle;\n",
              "    }\n",
              "\n",
              "    .dataframe tbody tr th {\n",
              "        vertical-align: top;\n",
              "    }\n",
              "\n",
              "    .dataframe thead th {\n",
              "        text-align: right;\n",
              "    }\n",
              "</style>\n",
              "<table border=\"1\" class=\"dataframe\">\n",
              "  <thead>\n",
              "    <tr style=\"text-align: right;\">\n",
              "      <th></th>\n",
              "      <th>site</th>\n",
              "    </tr>\n",
              "  </thead>\n",
              "  <tbody>\n",
              "    <tr>\n",
              "      <th>25075</th>\n",
              "      <td>www.abmecatronique.com</td>\n",
              "    </tr>\n",
              "    <tr>\n",
              "      <th>13997</th>\n",
              "      <td>groups.live.com</td>\n",
              "    </tr>\n",
              "    <tr>\n",
              "      <th>42436</th>\n",
              "      <td>majeureliguefootball.wordpress.com</td>\n",
              "    </tr>\n",
              "    <tr>\n",
              "      <th>30911</th>\n",
              "      <td>cdt46.media.tourinsoft.eu</td>\n",
              "    </tr>\n",
              "    <tr>\n",
              "      <th>8104</th>\n",
              "      <td>www.hdwallpapers.eu</td>\n",
              "    </tr>\n",
              "  </tbody>\n",
              "</table>\n",
              "</div>"
            ],
            "text/plain": [
              "                                     site\n",
              "25075              www.abmecatronique.com\n",
              "13997                     groups.live.com\n",
              "42436  majeureliguefootball.wordpress.com\n",
              "30911           cdt46.media.tourinsoft.eu\n",
              "8104                  www.hdwallpapers.eu"
            ]
          },
          "metadata": {
            "tags": []
          },
          "execution_count": 4
        }
      ]
    },
    {
      "metadata": {
        "id": "vd4ARMhcQFgT",
        "colab_type": "text"
      },
      "cell_type": "markdown",
      "source": [
        "### 2. Brief Exploratory Data Analysis"
      ]
    },
    {
      "metadata": {
        "id": "FO8KGFGUQFgW",
        "colab_type": "text"
      },
      "cell_type": "markdown",
      "source": [
        "Before we start training models, we have to perform Exploratory Data Analysis ([EDA](https://en.wikipedia.org/wiki/Exploratory_data_analysis)). Today, we are going to perform a shorter version, but we will use other techniques as we move forward. Let's check which websites in the training data set are the most visited. As you can see, they are Google services and a bioinformatics website (a website with 'zero'-index is our missed values, just ignore it):"
      ]
    },
    {
      "metadata": {
        "id": "jncKOJmaQFgY",
        "colab_type": "code",
        "colab": {
          "base_uri": "https://localhost:8080/",
          "height": 204
        },
        "outputId": "8a7dbb3b-7292-412a-cdaf-43ed0b51a644"
      },
      "cell_type": "code",
      "source": [
        "# Top websites in the training data set\n",
        "top_sites = pd.Series(train_df[sites].values.flatten()\n",
        "                     ).value_counts().sort_values(ascending=False).head(10)\n",
        "print(top_sites)\n",
        "sites_dict.loc[top_sites.drop(0).index]\n",
        "top_sites_no_zeros=top_sites.drop(0).index\n",
        "#print(sites_dict.loc[top_sites_no_zeros[0]])\n",
        "#print(top_sites_no_zeros)\n",
        "#print(top_sites_no_zeros[2])\n",
        "#print(top_sites_no_zeros[3])"
      ],
      "execution_count": 5,
      "outputs": [
        {
          "output_type": "stream",
          "text": [
            "21     123776\n",
            "0      122730\n",
            "23      87619\n",
            "782     77055\n",
            "22      58258\n",
            "29      54094\n",
            "167     46405\n",
            "780     43841\n",
            "778     38194\n",
            "52      36085\n",
            "dtype: int64\n"
          ],
          "name": "stdout"
        }
      ]
    },
    {
      "metadata": {
        "id": "pXPAD_nxQFgf",
        "colab_type": "text"
      },
      "cell_type": "markdown",
      "source": [
        "##### 1. What kind of websites does Alice visit the most?\n",
        "*For discussions, please stick to [ODS Slack](https://opendatascience.slack.com/), channel #mlcourse_ai, pinned thread __#a2_q1__*\n",
        "\n",
        "- videohostings\n",
        "- social networks\n",
        "- torrent trackers\n",
        "- news"
      ]
    },
    {
      "metadata": {
        "id": "s8gtoPfcQFgg",
        "colab_type": "code",
        "colab": {}
      },
      "cell_type": "code",
      "source": [
        "# answer is last one ( news)"
      ],
      "execution_count": 0,
      "outputs": []
    },
    {
      "metadata": {
        "id": "DbzJl_n0QFgq",
        "colab_type": "text"
      },
      "cell_type": "markdown",
      "source": [
        "Now let us look at the timestamps and try to characterize sessions as timeframes:"
      ]
    },
    {
      "metadata": {
        "id": "fhR70kppQFgs",
        "colab_type": "code",
        "colab": {
          "base_uri": "https://localhost:8080/",
          "height": 235
        },
        "outputId": "1ee4ccbe-c2c8-4dc5-8577-4c20787e5f4f"
      },
      "cell_type": "code",
      "source": [
        "# Create a separate dataframe where we will work with timestamps\n",
        "time_df = pd.DataFrame(index=train_df.index)\n",
        "time_df['target'] = train_df['target']\n",
        "\n",
        "# Find sessions' starting and ending\n",
        "time_df['min'] = train_df[times].min(axis=1)\n",
        "time_df['max'] = train_df[times].max(axis=1)\n",
        "\n",
        "# Calculate sessions' duration in seconds\n",
        "time_df['seconds'] = (time_df['max'] - time_df['min']) / np.timedelta64(1, 's')\n",
        "\n",
        "time_df.head()"
      ],
      "execution_count": 6,
      "outputs": [
        {
          "output_type": "execute_result",
          "data": {
            "text/html": [
              "<div>\n",
              "<style scoped>\n",
              "    .dataframe tbody tr th:only-of-type {\n",
              "        vertical-align: middle;\n",
              "    }\n",
              "\n",
              "    .dataframe tbody tr th {\n",
              "        vertical-align: top;\n",
              "    }\n",
              "\n",
              "    .dataframe thead th {\n",
              "        text-align: right;\n",
              "    }\n",
              "</style>\n",
              "<table border=\"1\" class=\"dataframe\">\n",
              "  <thead>\n",
              "    <tr style=\"text-align: right;\">\n",
              "      <th></th>\n",
              "      <th>target</th>\n",
              "      <th>min</th>\n",
              "      <th>max</th>\n",
              "      <th>seconds</th>\n",
              "    </tr>\n",
              "    <tr>\n",
              "      <th>session_id</th>\n",
              "      <th></th>\n",
              "      <th></th>\n",
              "      <th></th>\n",
              "      <th></th>\n",
              "    </tr>\n",
              "  </thead>\n",
              "  <tbody>\n",
              "    <tr>\n",
              "      <th>21669</th>\n",
              "      <td>0</td>\n",
              "      <td>2013-01-12 08:05:57</td>\n",
              "      <td>2013-01-12 08:05:57</td>\n",
              "      <td>0.0</td>\n",
              "    </tr>\n",
              "    <tr>\n",
              "      <th>54843</th>\n",
              "      <td>0</td>\n",
              "      <td>2013-01-12 08:37:23</td>\n",
              "      <td>2013-01-12 09:07:09</td>\n",
              "      <td>1786.0</td>\n",
              "    </tr>\n",
              "    <tr>\n",
              "      <th>77292</th>\n",
              "      <td>0</td>\n",
              "      <td>2013-01-12 08:50:13</td>\n",
              "      <td>2013-01-12 08:50:17</td>\n",
              "      <td>4.0</td>\n",
              "    </tr>\n",
              "    <tr>\n",
              "      <th>114021</th>\n",
              "      <td>0</td>\n",
              "      <td>2013-01-12 08:50:17</td>\n",
              "      <td>2013-01-12 08:50:20</td>\n",
              "      <td>3.0</td>\n",
              "    </tr>\n",
              "    <tr>\n",
              "      <th>146670</th>\n",
              "      <td>0</td>\n",
              "      <td>2013-01-12 08:50:20</td>\n",
              "      <td>2013-01-12 08:50:22</td>\n",
              "      <td>2.0</td>\n",
              "    </tr>\n",
              "  </tbody>\n",
              "</table>\n",
              "</div>"
            ],
            "text/plain": [
              "            target                 min                 max  seconds\n",
              "session_id                                                         \n",
              "21669            0 2013-01-12 08:05:57 2013-01-12 08:05:57      0.0\n",
              "54843            0 2013-01-12 08:37:23 2013-01-12 09:07:09   1786.0\n",
              "77292            0 2013-01-12 08:50:13 2013-01-12 08:50:17      4.0\n",
              "114021           0 2013-01-12 08:50:17 2013-01-12 08:50:20      3.0\n",
              "146670           0 2013-01-12 08:50:20 2013-01-12 08:50:22      2.0"
            ]
          },
          "metadata": {
            "tags": []
          },
          "execution_count": 6
        }
      ]
    },
    {
      "metadata": {
        "id": "Qb1jxiSKQFg0",
        "colab_type": "text"
      },
      "cell_type": "markdown",
      "source": [
        "In order to perform the next task, generate descriptive statistics as you did in the first assignment.\n",
        "\n",
        "*In the next question, we are using the notion of \"approximately the same\". To be strict, let's define it: $a$ is approximately the same as $b$ ($a \\approx b $) if their difference is less than or equal to 5% of the maximum between $a$ and $b$, i.e. $a \\approx b \\leftrightarrow \\frac{|a-b|}{max(a,b)} \\leq 0.05$.*\n",
        "\n",
        "##### 2. Select all correct statements:\n",
        "*For discussions, please stick to [ODS Slack](https://opendatascience.slack.com/), channel #mlcourse_ai, pinned thread __#a2_q2__*\n",
        "\n",
        "- on average, Alice's session is shorter than that of other users\n",
        "- more than 1% of all sessions in the dataset belong to Alice\n",
        "- minimum and maximum durations of Alice's and other users' sessions are approximately the same\n",
        "- standard deviation of Alice's sessions duration is approximately the same as for non-Alice's sessions\n",
        "- less than a quarter of Alice's sessions are greater than or equal to 40 seconds"
      ]
    },
    {
      "metadata": {
        "id": "RRO0x-m4QFg3",
        "colab_type": "code",
        "colab": {
          "base_uri": "https://localhost:8080/",
          "height": 119
        },
        "outputId": "520b3ea2-c78c-41fd-d447-d168c8da5cf2"
      },
      "cell_type": "code",
      "source": [
        "len(time_df)\n",
        "len(time_df[time_df['target']==1])\n",
        "print(len(time_df[time_df['target']==1])/len(time_df))\n",
        "print(time_df[time_df['target']==1]['seconds'].mean())\n",
        "print(time_df[time_df['target']==0]['seconds'].mean())\n",
        "print(time_df[time_df['target']==1]['seconds'].std())\n",
        "print(time_df[time_df['target']==0]['seconds'].std())\n",
        "print(len(time_df[(time_df['target']==1) & (time_df['seconds']>=40)]) /len(time_df[time_df['target']==1]))\n"
      ],
      "execution_count": 7,
      "outputs": [
        {
          "output_type": "stream",
          "text": [
            "0.00905896411514389\n",
            "52.29647366129734\n",
            "139.28237232552215\n",
            "153.30901405274335\n",
            "296.65351771850226\n",
            "0.2411841532433609\n"
          ],
          "name": "stdout"
        }
      ]
    },
    {
      "metadata": {
        "id": "Dm_cWzajQFg7",
        "colab_type": "text"
      },
      "cell_type": "markdown",
      "source": [
        "In order to train our first model, we need to prepare the data. First of all, exclude the target variable from the training set. Now both training and test sets have the same number of columns, therefore aggregate them into one dataframe.  Thus, all transformations will be performed simultaneously on both training and test data sets. \n",
        "\n",
        "On the one hand, it leads to the fact that both data sets have one feature space (you don't have to worry that you forgot to transform a feature in some data sets). On the other hand, processing time will increase. \n",
        "For the enormously large sets it might turn out that it is impossible to transform both data sets simultaneously (and sometimes you have to split your transformations into several stages only for train/test data set).\n",
        "In our case, with this particular data set, we are going to perform all the transformations for the whole united dataframe at once, and before training the model or making predictions we will just take its appropriate part."
      ]
    },
    {
      "metadata": {
        "id": "k8QZschEQFg9",
        "colab_type": "code",
        "colab": {}
      },
      "cell_type": "code",
      "source": [
        "# Our target variable\n",
        "y_train = train_df['target']\n",
        "\n",
        "# United dataframe of the initial data \n",
        "full_df = pd.concat([train_df.drop('target', axis=1), test_df])\n",
        "\n",
        "# Index to split the training and test data sets\n",
        "idx_split = train_df.shape[0]"
      ],
      "execution_count": 0,
      "outputs": []
    },
    {
      "metadata": {
        "id": "EKaK0uhqQFhD",
        "colab_type": "text"
      },
      "cell_type": "markdown",
      "source": [
        "For the very basic model, we will use only the visited websites in the session (but we will not take into account timestamp features). The point behind this data selection is: *Alice has her favorite sites, and the more often you see these sites in the session, the higher probability that this is Alice's session, and vice versa.*\n",
        "\n",
        "Let us prepare the data, we will take only features `site1, site2, ... , site10` from the whole dataframe. Keep in mind that the missing values are replaced with zero. Here is how the first rows of the dataframe look like:"
      ]
    },
    {
      "metadata": {
        "id": "zqtwnLZpQFhH",
        "colab_type": "code",
        "colab": {
          "base_uri": "https://localhost:8080/",
          "height": 235
        },
        "outputId": "d12e1c4d-f3d9-42ad-c5ec-648b46fed87b"
      },
      "cell_type": "code",
      "source": [
        "# Dataframe with indices of visited websites in session\n",
        "full_sites = full_df[sites]\n",
        "full_sites.head()"
      ],
      "execution_count": 9,
      "outputs": [
        {
          "output_type": "execute_result",
          "data": {
            "text/html": [
              "<div>\n",
              "<style scoped>\n",
              "    .dataframe tbody tr th:only-of-type {\n",
              "        vertical-align: middle;\n",
              "    }\n",
              "\n",
              "    .dataframe tbody tr th {\n",
              "        vertical-align: top;\n",
              "    }\n",
              "\n",
              "    .dataframe thead th {\n",
              "        text-align: right;\n",
              "    }\n",
              "</style>\n",
              "<table border=\"1\" class=\"dataframe\">\n",
              "  <thead>\n",
              "    <tr style=\"text-align: right;\">\n",
              "      <th></th>\n",
              "      <th>site1</th>\n",
              "      <th>site2</th>\n",
              "      <th>site3</th>\n",
              "      <th>site4</th>\n",
              "      <th>site5</th>\n",
              "      <th>site6</th>\n",
              "      <th>site7</th>\n",
              "      <th>site8</th>\n",
              "      <th>site9</th>\n",
              "      <th>site10</th>\n",
              "    </tr>\n",
              "    <tr>\n",
              "      <th>session_id</th>\n",
              "      <th></th>\n",
              "      <th></th>\n",
              "      <th></th>\n",
              "      <th></th>\n",
              "      <th></th>\n",
              "      <th></th>\n",
              "      <th></th>\n",
              "      <th></th>\n",
              "      <th></th>\n",
              "      <th></th>\n",
              "    </tr>\n",
              "  </thead>\n",
              "  <tbody>\n",
              "    <tr>\n",
              "      <th>21669</th>\n",
              "      <td>56</td>\n",
              "      <td>55</td>\n",
              "      <td>0</td>\n",
              "      <td>0</td>\n",
              "      <td>0</td>\n",
              "      <td>0</td>\n",
              "      <td>0</td>\n",
              "      <td>0</td>\n",
              "      <td>0</td>\n",
              "      <td>0</td>\n",
              "    </tr>\n",
              "    <tr>\n",
              "      <th>54843</th>\n",
              "      <td>56</td>\n",
              "      <td>55</td>\n",
              "      <td>56</td>\n",
              "      <td>55</td>\n",
              "      <td>0</td>\n",
              "      <td>0</td>\n",
              "      <td>0</td>\n",
              "      <td>0</td>\n",
              "      <td>0</td>\n",
              "      <td>0</td>\n",
              "    </tr>\n",
              "    <tr>\n",
              "      <th>77292</th>\n",
              "      <td>946</td>\n",
              "      <td>946</td>\n",
              "      <td>951</td>\n",
              "      <td>946</td>\n",
              "      <td>946</td>\n",
              "      <td>945</td>\n",
              "      <td>948</td>\n",
              "      <td>784</td>\n",
              "      <td>949</td>\n",
              "      <td>946</td>\n",
              "    </tr>\n",
              "    <tr>\n",
              "      <th>114021</th>\n",
              "      <td>945</td>\n",
              "      <td>948</td>\n",
              "      <td>949</td>\n",
              "      <td>948</td>\n",
              "      <td>945</td>\n",
              "      <td>946</td>\n",
              "      <td>947</td>\n",
              "      <td>945</td>\n",
              "      <td>946</td>\n",
              "      <td>946</td>\n",
              "    </tr>\n",
              "    <tr>\n",
              "      <th>146670</th>\n",
              "      <td>947</td>\n",
              "      <td>950</td>\n",
              "      <td>948</td>\n",
              "      <td>947</td>\n",
              "      <td>950</td>\n",
              "      <td>952</td>\n",
              "      <td>946</td>\n",
              "      <td>951</td>\n",
              "      <td>946</td>\n",
              "      <td>947</td>\n",
              "    </tr>\n",
              "  </tbody>\n",
              "</table>\n",
              "</div>"
            ],
            "text/plain": [
              "            site1  site2  site3  site4  site5  site6  site7  site8  site9  \\\n",
              "session_id                                                                  \n",
              "21669          56     55      0      0      0      0      0      0      0   \n",
              "54843          56     55     56     55      0      0      0      0      0   \n",
              "77292         946    946    951    946    946    945    948    784    949   \n",
              "114021        945    948    949    948    945    946    947    945    946   \n",
              "146670        947    950    948    947    950    952    946    951    946   \n",
              "\n",
              "            site10  \n",
              "session_id          \n",
              "21669            0  \n",
              "54843            0  \n",
              "77292          946  \n",
              "114021         946  \n",
              "146670         947  "
            ]
          },
          "metadata": {
            "tags": []
          },
          "execution_count": 9
        }
      ]
    },
    {
      "metadata": {
        "id": "XN0_SoRrQFhW",
        "colab_type": "text"
      },
      "cell_type": "markdown",
      "source": [
        "Sessions are sequences of website indices, and data in this representation is useless for machine learning method (just think, what happens if we switched all ids of all websites). \n",
        "\n",
        "According to our hypothesis (Alice has favorite websites), we need to transform this dataframe so each website has a corresponding feature (column) and its value is equal to number of this website visits in the session. It can be done in two lines:"
      ]
    },
    {
      "metadata": {
        "id": "-hMmVcnhQFhZ",
        "colab_type": "code",
        "colab": {}
      },
      "cell_type": "code",
      "source": [
        "# sequence of indices\n",
        "sites_flatten = full_sites.values.flatten()\n",
        "\n",
        "# and the matrix we are looking for \n",
        "# (make sure you understand which of the `csr_matrix` constructors is used here)\n",
        "# a further toy example will help you with it\n",
        "full_sites_sparse = csr_matrix(([1] * sites_flatten.shape[0],\n",
        "                                sites_flatten,\n",
        "                                range(0, sites_flatten.shape[0]  + 10, 10)))[:, 1:]"
      ],
      "execution_count": 0,
      "outputs": []
    },
    {
      "metadata": {
        "id": "0LVaE2hcQFhf",
        "colab_type": "code",
        "colab": {
          "base_uri": "https://localhost:8080/",
          "height": 34
        },
        "outputId": "d0467ba7-dabb-4b81-b197-e159916ac5f1"
      },
      "cell_type": "code",
      "source": [
        "full_sites_sparse.shape"
      ],
      "execution_count": 11,
      "outputs": [
        {
          "output_type": "execute_result",
          "data": {
            "text/plain": [
              "(336358, 48371)"
            ]
          },
          "metadata": {
            "tags": []
          },
          "execution_count": 11
        }
      ]
    },
    {
      "metadata": {
        "id": "4d-U9rbwQFhq",
        "colab_type": "code",
        "colab": {
          "base_uri": "https://localhost:8080/",
          "height": 34
        },
        "outputId": "e4a33840-c7d0-468a-909b-ce56322ffea1"
      },
      "cell_type": "code",
      "source": [
        "336358*48371/1e9\n",
        "len(full_sites_sparse.data)\n",
        "print(100*(336358*48371-len(full_sites_sparse.data))/(336358*48371))"
      ],
      "execution_count": 12,
      "outputs": [
        {
          "output_type": "stream",
          "text": [
            "99.98035995489516\n"
          ],
          "name": "stdout"
        }
      ]
    },
    {
      "metadata": {
        "id": "JSQuHOwWQFhx",
        "colab_type": "text"
      },
      "cell_type": "markdown",
      "source": [
        "If you understand what just happened here, then you can skip the next passage (perhaps, you can handle logistic regression too?), If not, then let us figure it out.\n",
        "\n",
        "### Important detour #1: Sparse Matrices\n",
        "\n",
        "Let us estimate how much memory it will require to store our data in the example above. Our united dataframe contains 336 thousand samples of 48 thousand integer features in each. It's easy to calculate the required amount of memory, roughly:\n",
        "\n",
        "$$336\\ K * 48\\ K * 8\\ bytes \\approx 16* 10^9 * 8\\ bytes = 128\\ GB,$$\n",
        "\n",
        "(that's the [exact](http://www.wolframalpha.com/input/?i=336358*48371*8+bytes) value). Obviously, ordinary mortals have no such volumes (strictly speaking, Python may allow you to create such a matrix, but it will not be easy to do anything with it). The interesting fact is that most of the elements of our matrix are zeros. If we count non-zero elements, then it will be about 1.8 million, i.е. slightly more than 10% of all matrix elements. Such a matrix, where most elements are zeros, is called sparse, and the ratio between the number of zero elements and the total number of elements is called the sparseness of the matrix.\n",
        "\n",
        "For the work with such matrices you can use `scipy.sparse` library, check [documentation](https://docs.scipy.org/doc/scipy-0.18.1/reference/sparse.html) to understand what possible types of sparse matrices are, how to work with them and in which cases their usage is most effective. You can learn how they are arranged, for example, in Wikipedia [article](https://en.wikipedia.org/wiki/Sparse_matrix).\n",
        "Note, that a sparse matrix contains only non-zero elements, and you can get the allocated memory size like this (significant memory savings are obvious):"
      ]
    },
    {
      "metadata": {
        "id": "xYoxXYbgQFhz",
        "colab_type": "code",
        "colab": {
          "base_uri": "https://localhost:8080/",
          "height": 51
        },
        "outputId": "57ae0bf8-40ec-4a0e-89ba-e1f5929adafb"
      },
      "cell_type": "code",
      "source": [
        "# How much memory does a sparse matrix occupy?\n",
        "print('{0} elements * {1} bytes = {2} bytes'.format(full_sites_sparse.count_nonzero(), 8, \n",
        "                                                    full_sites_sparse.count_nonzero() * 8))\n",
        "# Or just like this:\n",
        "print('sparse_matrix_size = {0} bytes'.format(full_sites_sparse.data.nbytes))"
      ],
      "execution_count": 13,
      "outputs": [
        {
          "output_type": "stream",
          "text": [
            "1866898 elements * 8 bytes = 14935184 bytes\n",
            "sparse_matrix_size = 14935184 bytes\n"
          ],
          "name": "stdout"
        }
      ]
    },
    {
      "metadata": {
        "id": "vS1U22qeQFiI",
        "colab_type": "text"
      },
      "cell_type": "markdown",
      "source": [
        "Let us explore how the matrix with the websites has been formed using a mini example. Suppose we have the following table with user sessions:\n",
        "\n",
        "| id | site1 | site2 | site3 |\n",
        "|---|---|---|---|\n",
        "| 1 | 1 | 0 | 0 |\n",
        "| 2 | 1 | 3 | 1 |\n",
        "| 3 | 2 | 3 | 4 |\n",
        "\n",
        "There are 3 sessions, and no more than 3 websites in each. Users visited four different sites in total (there are numbers from 1 to 4 in the table cells). And let us assume that the mapping is:\n",
        "\n",
        " 1. vk.com\n",
        " 2. habrahabr.ru \n",
        " 3. yandex.ru\n",
        " 4. ods.ai\n",
        "\n",
        "If the user has visited less than 3 websites during the session, the last few values will be zero. We want to convert the original dataframe in a way that each session has a corresponding row which shows the number of visits to each particular site. I.e. we want to transform the previous table into the following form:\n",
        "\n",
        "| id | vk.com | habrahabr.ru | yandex.ru | ods.ai |\n",
        "|---|---|---|---|---|\n",
        "| 1 | 1 | 0 | 0 | 0 |\n",
        "| 2 | 2 | 0 | 1 | 0 |\n",
        "| 3 | 0 | 1 | 1 | 1 |\n",
        "\n",
        "\n",
        "To do this, use the constructor: `csr_matrix ((data, indices, indptr))` and create a frequency table (see examples, code and comments on the links above to see how it works). Here we set all the parameters explicitly for greater clarity:"
      ]
    },
    {
      "metadata": {
        "scrolled": true,
        "id": "6BJdQMZWQFiM",
        "colab_type": "code",
        "colab": {
          "base_uri": "https://localhost:8080/",
          "height": 119
        },
        "outputId": "74fbd66d-ca91-4ea0-cb48-81da4c331625"
      },
      "cell_type": "code",
      "source": [
        "# data, create the list of ones, length of which equal to the number of elements in the initial dataframe (9)\n",
        "# By summing the number of ones in the cell, we get the frequency,\n",
        "# number of visits to a particular site per session\n",
        "data = [1] * 9\n",
        "print(data)\n",
        "# To do this, you need to correctly distribute the ones in cells\n",
        "# Indices - website ids, i.e. columns of a new matrix. We will sum ones up grouping them by sessions (ids)\n",
        "indices = [1, 0, 0, 1, 3, 1, 2, 3, 4]\n",
        "\n",
        "# Indices for the division into rows (sessions)\n",
        "# For example, line 0 is the elements between the indices [0; 3) - the rightmost value is not included\n",
        "# Line 1 is the elements between the indices [3; 6)\n",
        "# Line 2 is the elements between the indices [6; 9) \n",
        "indptr = [0, 3, 6, 9]\n",
        "\n",
        "# Aggregate these three variables into a tuple and compose a matrix\n",
        "# To display this matrix on the screen transform it into the usual \"dense\" matrix\n",
        "mtx=csr_matrix((data, indices, indptr)).todense()\n",
        "print(mtx)\n",
        "print(sum(mtx))\n",
        "print(csr_matrix((data, indices, indptr)).data)"
      ],
      "execution_count": 14,
      "outputs": [
        {
          "output_type": "stream",
          "text": [
            "[1, 1, 1, 1, 1, 1, 1, 1, 1]\n",
            "[[2 1 0 0 0]\n",
            " [0 2 0 1 0]\n",
            " [0 0 1 1 1]]\n",
            "[[2 3 1 2 1]]\n",
            "[1 1 1 1 1 1 1 1 1]\n"
          ],
          "name": "stdout"
        }
      ]
    },
    {
      "metadata": {
        "id": "JtA-icFOQFiT",
        "colab_type": "text"
      },
      "cell_type": "markdown",
      "source": [
        "As you might have noticed, there are not four columns in the resulting matrix (corresponding to number of different websites) but five. A zero column has been added, which indicates if the session was shorter (in our mini example we took sessions of three). This column is excessive and should be removed from the dataframe (do that yourself).\n",
        "\n",
        "##### 3. What is the sparseness of the matrix in our small example?\n",
        "*For discussions, please stick to [ODS Slack](https://opendatascience.slack.com/), channel #mlcourse_ai, pinned thread __#a2_q3__*\n",
        "\n",
        "- 42%\n",
        "- 47%\n",
        "- 50%\n",
        "- 53%"
      ]
    },
    {
      "metadata": {
        "id": "npXyhUjoQFiV",
        "colab_type": "code",
        "colab": {}
      },
      "cell_type": "code",
      "source": [
        "#6/12=50%   answer    "
      ],
      "execution_count": 0,
      "outputs": []
    },
    {
      "metadata": {
        "id": "RMj5GU_BQFia",
        "colab_type": "text"
      },
      "cell_type": "markdown",
      "source": [
        "Another benefit of using sparse matrices is that there are special implementations of both matrix operations and machine learning algorithms for them, which sometimes allows to significantly accelerate operations due to the data structure peculiarities. This applies to logistic regression as well. Now everything is ready to build our first model.\n",
        "\n",
        "### 3. Training the first model\n",
        "\n",
        "So, we have an algorithm and data for it. Let us build our first model, using [logistic regression](http://scikit-learn.org/stable/modules/generated/sklearn.linear_model.LogisticRegression.html) implementation from ` Sklearn` with default parameters. We will use the first 90% of the data for training (the training data set is sorted by time), and the remaining 10% for validation. Let's write a simple function that returns the quality of the model and then train our first classifier:"
      ]
    },
    {
      "metadata": {
        "id": "_WsWsIc0QFic",
        "colab_type": "code",
        "colab": {}
      },
      "cell_type": "code",
      "source": [
        "def get_auc_lr_valid(X, y, C=1.0, seed=17, ratio = 0.9):\n",
        "    # Split the data into the training and validation sets\n",
        "    idx = int(round(X.shape[0] * ratio))\n",
        "    # Classifier training\n",
        "    lr = LogisticRegression(C=C, random_state=seed, solver='liblinear').fit(X[:idx, :], y[:idx])\n",
        "    # Prediction for validation set\n",
        "    y_pred = lr.predict_proba(X[idx:, :])[:, 1]\n",
        "    # Calculate the quality\n",
        "    score = roc_auc_score(y[idx:], y_pred)\n",
        "    \n",
        "    return score"
      ],
      "execution_count": 0,
      "outputs": []
    },
    {
      "metadata": {
        "id": "4E394TrWQFif",
        "colab_type": "code",
        "colab": {
          "base_uri": "https://localhost:8080/",
          "height": 68
        },
        "outputId": "7c3733b6-f445-4f40-f82b-c1ffec2625ed"
      },
      "cell_type": "code",
      "source": [
        "%%time\n",
        "# Select the training set from the united dataframe (where we have the answers)\n",
        "X_train = full_sites_sparse[:idx_split, :]\n",
        "\n",
        "# Calculate metric on the validation set\n",
        "print(get_auc_lr_valid(X_train, y_train))"
      ],
      "execution_count": 16,
      "outputs": [
        {
          "output_type": "stream",
          "text": [
            "0.9195244077552184\n",
            "CPU times: user 6.24 s, sys: 35 ms, total: 6.28 s\n",
            "Wall time: 6.28 s\n"
          ],
          "name": "stdout"
        }
      ]
    },
    {
      "metadata": {
        "id": "rtl38tuZQFik",
        "colab_type": "text"
      },
      "cell_type": "markdown",
      "source": [
        "The first model demonstrated the quality  of 0.92 on the validation set. Let's take it as the first baseline and starting point. To make a prediction on the test data set **we need to train the model again on the entire training data set** (until this moment, our model used only part of the data for training), which will increase its generalizing ability:"
      ]
    },
    {
      "metadata": {
        "id": "cMoEKRktQFil",
        "colab_type": "code",
        "colab": {}
      },
      "cell_type": "code",
      "source": [
        "# Function for writing predictions to a file\n",
        "def write_to_submission_file(predicted_labels, out_file,\n",
        "                             target='target', index_label=\"session_id\"):\n",
        "    predicted_df = pd.DataFrame(predicted_labels,\n",
        "                                index = np.arange(1, predicted_labels.shape[0] + 1),\n",
        "                                columns=[target])\n",
        "    predicted_df.to_csv(out_file, index_label=index_label)"
      ],
      "execution_count": 0,
      "outputs": []
    },
    {
      "metadata": {
        "id": "HpnChH2lQFip",
        "colab_type": "code",
        "colab": {}
      },
      "cell_type": "code",
      "source": [
        "# Train the model on the whole training data set\n",
        "# Use random_state=17 for repeatability\n",
        "# Parameter C=1 by default, but here we set it explicitly\n",
        "lr = LogisticRegression(C=1.0, random_state=17, solver='liblinear').fit(X_train, y_train)\n",
        "\n",
        "# Make a prediction for test data set\n",
        "X_test = full_sites_sparse[idx_split:,:]\n",
        "y_test = lr.predict_proba(X_test)[:, 1]\n",
        "\n",
        "# Write it to the file which could be submitted\n",
        "write_to_submission_file(y_test, 'baseline_1.csv')"
      ],
      "execution_count": 0,
      "outputs": []
    },
    {
      "metadata": {
        "id": "juczoEx9QFis",
        "colab_type": "text"
      },
      "cell_type": "markdown",
      "source": [
        "If you follow these steps and upload the answer to the competition [page](https://inclass.kaggle.com/c/catch-me-if-you-can-intruder-detection-through-webpage-session-tracking2), you will get `ROC AUC = 0.90812` on the public leaderboard (\"A2 baseline 1\").\n",
        "\n",
        "### 4. Model Improvement: Feature Engineering\n",
        "\n",
        "Now we are going to try to improve the quality of our model by adding new features to the data. But first, answer the following question:\n",
        "\n",
        "##### 4. What years are present in the training and test datasets, if united?\n",
        "*For discussions, please stick to [ODS Slack](https://opendatascience.slack.com/), channel #mlcourse_ai, pinned thread __#a2_q4__*\n",
        "\n",
        "- 13 and 14\n",
        "- 2012 and 2013\n",
        "- 2013 and 2014\n",
        "- 2014 and 2015"
      ]
    },
    {
      "metadata": {
        "id": "5l9s8SaTQFiv",
        "colab_type": "code",
        "colab": {}
      },
      "cell_type": "code",
      "source": [
        "# Your code is here  2013 and 2014    201301.0  to 201412.0"
      ],
      "execution_count": 0,
      "outputs": []
    },
    {
      "metadata": {
        "id": "r7P1agKdQFiy",
        "colab_type": "text"
      },
      "cell_type": "markdown",
      "source": [
        "Create a feature that will be a number in YYYYMM format from the date when the session was held, for example 201407 -- year 2014 and 7th month. Thus, we will take into account the monthly [linear trend](http://people.duke.edu/~rnau/411trend.htm) for the entire period of the data provided."
      ]
    },
    {
      "metadata": {
        "id": "J4hWrB1oQFiz",
        "colab_type": "code",
        "colab": {
          "base_uri": "https://localhost:8080/",
          "height": 393
        },
        "outputId": "7866e055-cd2f-4c0d-e3bf-76d0c78ff611"
      },
      "cell_type": "code",
      "source": [
        "# Dataframe for new features\n",
        "full_new_feat = pd.DataFrame(index=full_df.index)\n",
        "train_new_feat = pd.DataFrame(index=train_df.index)\n",
        "\n",
        "# Add start_month feature\n",
        "full_new_feat['start_month'] = full_df['time1'].apply(lambda ts: \n",
        "                                                      100 * ts.year + ts.month).astype('float64')\n",
        "train_new_feat['start_month'] = train_df['time1'].apply(lambda ts: \n",
        "                                                      100 * ts.year + ts.month).astype('float64')\n",
        "#full_new_feat.head(5)\n",
        "#full_df_with_new_feat = pd.concat([full_df, full_new_feat],axis=1)\n",
        "#full_df_with_new_feat = pd.concat([full_new_target, full_new_feat],axis=1)\n",
        "#full_df_with_new_feat.head(5)\n",
        "train_df_with_new_feat = pd.concat([train_df, train_new_feat],axis=1)\n",
        "train_df_with_new_feat.head(5)\n",
        "train_df_with_new_feat[train_df_with_new_feat['target']==1].groupby(['start_month']).size().plot(kind='bar');\n"
      ],
      "execution_count": 19,
      "outputs": [
        {
          "output_type": "display_data",
          "data": {
            "image/png": "[encoded data removed]",
            "text/plain": [
              "<Figure size 576x396 with 1 Axes>"
            ]
          },
          "metadata": {
            "tags": []
          }
        }
      ]
    },
    {
      "metadata": {
        "id": "UR2r0mFDQFi2",
        "colab_type": "text"
      },
      "cell_type": "markdown",
      "source": [
        "##### 5. Plot the graph of the number of Alice sessions versus the new feature, start_month. Choose the correct statement:\n",
        "\n",
        "*For discussions, please stick to [ODS Slack](https://opendatascience.slack.com/), channel #mlcourse_ai, pinned thread __#a2_q5__*\n",
        "\n",
        "- Alice wasn't online at all for the entire period\n",
        "- From the beginning of 2013 to mid-2014, the number of Alice's sessions per month decreased\n",
        "- The number of Alice's sessions per month is generally constant for the entire period\n",
        "- From the beginning of 2013 to mid-2014, the number of Alice's sessions per month increased\n",
        "\n",
        "*Hint: the graph will be more explicit if you treat `start_month` as a categorical ordinal variable*."
      ]
    },
    {
      "metadata": {
        "id": "EMrr2JXXQFi3",
        "colab_type": "code",
        "colab": {}
      },
      "cell_type": "code",
      "source": [
        "# answer is Alice wasn't online at all for the entire period"
      ],
      "execution_count": 0,
      "outputs": []
    },
    {
      "metadata": {
        "id": "EI7PkMtHQFi7",
        "colab_type": "text"
      },
      "cell_type": "markdown",
      "source": [
        "In this way, we have an illustration and thoughts about the usefulness of the new feature, add it to the training sample and check the quality of the new model:"
      ]
    },
    {
      "metadata": {
        "id": "KDpGvbrOQFi-",
        "colab_type": "code",
        "colab": {
          "base_uri": "https://localhost:8080/",
          "height": 34
        },
        "outputId": "f073c9ce-0b5b-42e7-d066-1c08d45a380a"
      },
      "cell_type": "code",
      "source": [
        "# Add the new feature to the sparse matrix\n",
        "tmp = full_new_feat[['start_month']].values\n",
        "X_train = csr_matrix(hstack([full_sites_sparse[:idx_split,:], tmp[:idx_split,:]]))\n",
        "\n",
        "# Compute the metric on the validation set\n",
        "print(get_auc_lr_valid(X_train, y_train))"
      ],
      "execution_count": 20,
      "outputs": [
        {
          "output_type": "stream",
          "text": [
            "0.7508354860175162\n"
          ],
          "name": "stdout"
        }
      ]
    },
    {
      "metadata": {
        "id": "2WsAG7WfQFjF",
        "colab_type": "text"
      },
      "cell_type": "markdown",
      "source": [
        "The quality of the model has decreased significantly. We added a feature that definitely seemed useful to us, but its usage only worsened the model. Why did it happen?\n",
        "\n",
        "### Important detour #2: is it necessary to scale features?\n",
        "\n",
        "Here we give an intuitive reasoning (a rigorous mathematical justification for one or another aspect in linear models you can easily find on the internet). Consider the features more closely: those of them that correspond to the number of visits to a particular web-site per session vary from 0 to 10. The feature `start_month` has a completely different range: from 201301 to 201412, this means the contribution of this variable is significantly greater than the others. It would seem that problem can be avoided if we put less weight in a linear combination of attributes in this case, but in our case logistic regression with regularization is used (by default, this parameter is `C = 1`), which penalizes the model the stronger the greater its weights are. Therefore, for linear methods with regularization, it is recommended to convert features to the same scale (you can read more about the regularization, for example, [here](https://habrahabr.ru/company/ods/blog/322076/)).\n",
        "\n",
        "One way to do this is standardization: for each observation you need to subtract the average value of the feature and divide this difference by the standard deviation:\n",
        "\n",
        "$$ x^{*}_{i} = \\dfrac{x_{i} - \\mu_x}{\\sigma_x}$$\n",
        "\n",
        "The following practical tips can be given:\n",
        "- It is recommended to scale features if they have essentially different ranges or different units of measurement (for example, the country's population is indicated in units, and the country's GNP in trillions)\n",
        "- Scale features if you do not have a reason/expert opinion to give a greater weight to any of them\n",
        "- Scaling can be excessive if the ranges of some of your features differ from each other, but they are in the same system of units (for example, the proportion of middle-aged people and people over 80 among the entire population)\n",
        "- If you want to get an interpreted model, then build a model without regularization and scaling (most likely, its quality will be worse)\n",
        "- Binary features (which take only values of 0 or 1) are usually left without conversion, (but)\n",
        "- If the quality of the model is crucial, try different options and select one where the quality is better\n",
        "\n",
        "Getting back to `start_month`, let us rescale the new feature and train the model again. This time the quality has increased:"
      ]
    },
    {
      "metadata": {
        "id": "KyHAF7H4QFjH",
        "colab_type": "code",
        "colab": {
          "base_uri": "https://localhost:8080/",
          "height": 34
        },
        "outputId": "901c469a-5092-44a5-bfc5-8a6f05bc9297"
      },
      "cell_type": "code",
      "source": [
        "# Add the new standardized feature to the sparse matrix\n",
        "tmp = StandardScaler().fit_transform(full_new_feat[['start_month']])\n",
        "X_train = csr_matrix(hstack([full_sites_sparse[:idx_split,:], tmp[:idx_split,:]]))\n",
        "\n",
        "# Compute metric on the validation set\n",
        "print(get_auc_lr_valid(X_train, y_train))"
      ],
      "execution_count": 21,
      "outputs": [
        {
          "output_type": "stream",
          "text": [
            "0.9196990680356892\n"
          ],
          "name": "stdout"
        }
      ]
    },
    {
      "metadata": {
        "id": "UgPGlM5WQFjL",
        "colab_type": "text"
      },
      "cell_type": "markdown",
      "source": [
        "##### 6. Add to the training set a new feature \"n_unique_sites\" – the number of the unique web-sites in a session. Calculate how the quality on the validation set has changed\n",
        "\n",
        "*For discussions, please stick to [ODS Slack](https://opendatascience.slack.com/), channel #mlcourse_ai, pinned thread __#a2_q6__*\n",
        "\n",
        "- It has decreased. It is better not to add a new feature.\n",
        "- It has not changed.\n",
        "- It has decreased. The new feature should be scaled.\n",
        "- I am confused, and I do not know if it's necessary to scale a new feature.\n",
        "\n",
        "*Tips: use the nunique() function from `pandas`. Do not forget to include the start_month in the set. Will you scale a new feature? Why?*"
      ]
    },
    {
      "metadata": {
        "id": "iWM4RO8oQFjT",
        "colab_type": "text"
      },
      "cell_type": "markdown",
      "source": [
        "### 5. Regularization and Parameter Tuning\n",
        "\n",
        "We have introduced features that improve the quality of our model in comparison with the first baseline. Can we do even better? After we have changed the training and test sets, it almost always makes sense to search for the optimal hyperparameters - the parameters of the model that do not change during training.\n",
        "\n",
        "For example, in week 3, you learned that, in decision trees, the depth of the tree is a hyperparameter, but the feature by which splitting occurs and its threshold is not. \n",
        "\n",
        "In the logistic regression that we use, the weights of each feature are changing, and we find their optimal values during training; meanwhile, the regularization parameter remains constant. This is the hyperparameter that we are going to optimize now.\n",
        "\n",
        "Calculate the quality on a validation set with a regularization parameter, which is equal to 1 by default:"
      ]
    },
    {
      "metadata": {
        "id": "3aYlTcr6QFjN",
        "colab_type": "code",
        "colab": {}
      },
      "cell_type": "code",
      "source": [
        "# Your code is here"
      ],
      "execution_count": 0,
      "outputs": []
    },
    {
      "metadata": {
        "id": "XGqGYeWiQFjQ",
        "colab_type": "text"
      },
      "cell_type": "markdown",
      "source": [
        "So, the new feature has slightly decreased the quality, so we will not use it. Nevertheless, do not rush to throw features out because they haven't performed well. They can be useful in a combination with other features (for example, when a new feature is a ratio or a product of two others).\n",
        "\n",
        "#####  7. Add two new features: start_hour and morning. Calculate the metric. Which of these features gives an improvement?\n",
        "\n",
        "The `start_hour` feature is the hour at which the session started (from 0 to 23), and the binary feature `morning` is equal to 1 if the session started in the morning and 0 if the session started later (we assume that morning means `start_hour` is equal to 11 or less).\n",
        "\n",
        "Will you scale the new features? Make your assumptions and test them in practice.\n",
        "\n",
        "*For discussions, please stick to [ODS Slack](https://opendatascience.slack.com/), channel #mlcourse_ai, pinned thread __#a2_q7__*\n",
        "\n",
        "- None of the features gave an improvement :(\n",
        "- `start_hour` feature gave an improvement, and `morning` did not\n",
        "- `morning` feature gave an improvement, and `start_hour` did not\n",
        "- Both features gave an improvement\n",
        "\n",
        "*Tip: find suitable functions for working with time series data in [documentation](http://pandas.pydata.org/pandas-docs/stable/api.html). Do not forget to include the `start_month` feature.*"
      ]
    },
    {
      "metadata": {
        "id": "i5oTnNGpQFjR",
        "colab_type": "code",
        "colab": {
          "base_uri": "https://localhost:8080/",
          "height": 340
        },
        "outputId": "c8274cb6-e988-4a90-b39a-9b404f705218"
      },
      "cell_type": "code",
      "source": [
        "full_new_feat['start_hour'] = full_df['time1'].apply(lambda ts: \n",
        "                                                       ts.hour).astype('float64')\n",
        "full_new_feat['morning'] = full_df['time1'].apply(lambda ts: \n",
        "                                                       ts.hour<=11).astype('int64')\n",
        "#full_new_feat.head(5)\n",
        "# Add the new standardized feature to the sparse matrix\n",
        "tmp = StandardScaler().fit_transform(full_new_feat[['morning']])\n",
        "X_train = csr_matrix(hstack([full_sites_sparse[:idx_split,:], tmp[:idx_split,:]]))\n",
        "\n",
        "# Compute metric on the validation set\n",
        "print(get_auc_lr_valid(X_train, y_train))\n",
        "full_new_feat.head(5)"
      ],
      "execution_count": 22,
      "outputs": [
        {
          "output_type": "stream",
          "text": [
            "/usr/local/lib/python3.6/dist-packages/sklearn/preprocessing/data.py:625: DataConversionWarning: Data with input dtype int64 were all converted to float64 by StandardScaler.\n",
            "  return self.partial_fit(X, y)\n",
            "/usr/local/lib/python3.6/dist-packages/sklearn/base.py:462: DataConversionWarning: Data with input dtype int64 were all converted to float64 by StandardScaler.\n",
            "  return self.fit(X, **fit_params).transform(X)\n"
          ],
          "name": "stderr"
        },
        {
          "output_type": "stream",
          "text": [
            "0.9474036303977121\n"
          ],
          "name": "stdout"
        },
        {
          "output_type": "execute_result",
          "data": {
            "text/html": [
              "<div>\n",
              "<style scoped>\n",
              "    .dataframe tbody tr th:only-of-type {\n",
              "        vertical-align: middle;\n",
              "    }\n",
              "\n",
              "    .dataframe tbody tr th {\n",
              "        vertical-align: top;\n",
              "    }\n",
              "\n",
              "    .dataframe thead th {\n",
              "        text-align: right;\n",
              "    }\n",
              "</style>\n",
              "<table border=\"1\" class=\"dataframe\">\n",
              "  <thead>\n",
              "    <tr style=\"text-align: right;\">\n",
              "      <th></th>\n",
              "      <th>start_month</th>\n",
              "      <th>start_hour</th>\n",
              "      <th>morning</th>\n",
              "    </tr>\n",
              "    <tr>\n",
              "      <th>session_id</th>\n",
              "      <th></th>\n",
              "      <th></th>\n",
              "      <th></th>\n",
              "    </tr>\n",
              "  </thead>\n",
              "  <tbody>\n",
              "    <tr>\n",
              "      <th>21669</th>\n",
              "      <td>201301.0</td>\n",
              "      <td>8.0</td>\n",
              "      <td>1</td>\n",
              "    </tr>\n",
              "    <tr>\n",
              "      <th>54843</th>\n",
              "      <td>201301.0</td>\n",
              "      <td>8.0</td>\n",
              "      <td>1</td>\n",
              "    </tr>\n",
              "    <tr>\n",
              "      <th>77292</th>\n",
              "      <td>201301.0</td>\n",
              "      <td>8.0</td>\n",
              "      <td>1</td>\n",
              "    </tr>\n",
              "    <tr>\n",
              "      <th>114021</th>\n",
              "      <td>201301.0</td>\n",
              "      <td>8.0</td>\n",
              "      <td>1</td>\n",
              "    </tr>\n",
              "    <tr>\n",
              "      <th>146670</th>\n",
              "      <td>201301.0</td>\n",
              "      <td>8.0</td>\n",
              "      <td>1</td>\n",
              "    </tr>\n",
              "  </tbody>\n",
              "</table>\n",
              "</div>"
            ],
            "text/plain": [
              "            start_month  start_hour  morning\n",
              "session_id                                  \n",
              "21669          201301.0         8.0        1\n",
              "54843          201301.0         8.0        1\n",
              "77292          201301.0         8.0        1\n",
              "114021         201301.0         8.0        1\n",
              "146670         201301.0         8.0        1"
            ]
          },
          "metadata": {
            "tags": []
          },
          "execution_count": 22
        }
      ]
    },
    {
      "metadata": {
        "id": "RQYZHUg7QFjU",
        "colab_type": "code",
        "colab": {
          "base_uri": "https://localhost:8080/",
          "height": 122
        },
        "outputId": "08c413ba-83f1-465e-fa94-3218825d62e7"
      },
      "cell_type": "code",
      "source": [
        "# Compose the training set\n",
        "tmp_scaled = StandardScaler().fit_transform(full_new_feat[['start_month', \n",
        "                                                           'start_hour', \n",
        "                                                           'morning']])\n",
        "X_train = csr_matrix(hstack([full_sites_sparse[:idx_split,:], \n",
        "                             tmp_scaled[:idx_split,:]]))\n",
        "\n",
        "# Capture the quality with default parameters\n",
        "score_C_1 = get_auc_lr_valid(X_train, y_train)\n",
        "print(score_C_1)"
      ],
      "execution_count": 23,
      "outputs": [
        {
          "output_type": "stream",
          "text": [
            "/usr/local/lib/python3.6/dist-packages/sklearn/preprocessing/data.py:625: DataConversionWarning: Data with input dtype int64, float64 were all converted to float64 by StandardScaler.\n",
            "  return self.partial_fit(X, y)\n",
            "/usr/local/lib/python3.6/dist-packages/sklearn/base.py:462: DataConversionWarning: Data with input dtype int64, float64 were all converted to float64 by StandardScaler.\n",
            "  return self.fit(X, **fit_params).transform(X)\n"
          ],
          "name": "stderr"
        },
        {
          "output_type": "stream",
          "text": [
            "0.9591502513175755\n"
          ],
          "name": "stdout"
        }
      ]
    },
    {
      "metadata": {
        "id": "NGJ_PQwcQFjX",
        "colab_type": "text"
      },
      "cell_type": "markdown",
      "source": [
        "We will try to beat this result by optimizing the regularization parameter. We will take a list of possible values of C and calculate the quality metric on the validation set for each of C-values:"
      ]
    },
    {
      "metadata": {
        "id": "_ddxfAIBQFjY",
        "colab_type": "code",
        "colab": {
          "base_uri": "https://localhost:8080/",
          "height": 34
        },
        "outputId": "06c363f2-b6ec-4075-fcaf-5ecf8828a346"
      },
      "cell_type": "code",
      "source": [
        "from tqdm import tqdm\n",
        "\n",
        "# List of possible C-values\n",
        "Cs = np.logspace(-3, 1, 10)\n",
        "scores = []\n",
        "for C in tqdm(Cs):\n",
        "    scores.append(get_auc_lr_valid(X_train, y_train, C=C))"
      ],
      "execution_count": 24,
      "outputs": [
        {
          "output_type": "stream",
          "text": [
            "100%|██████████| 10/10 [01:02<00:00, 11.66s/it]\n"
          ],
          "name": "stderr"
        }
      ]
    },
    {
      "metadata": {
        "id": "oThqsE65QFjb",
        "colab_type": "text"
      },
      "cell_type": "markdown",
      "source": [
        "Plot the graph of the quality metric (AUC-ROC) versus the value of the regularization parameter. The value of quality metric corresponding to the default value of C=1 is represented by a horizontal dotted line:"
      ]
    },
    {
      "metadata": {
        "id": "cyP_6lstQFjc",
        "colab_type": "code",
        "colab": {
          "base_uri": "https://localhost:8080/",
          "height": 380
        },
        "outputId": "16f5cb95-eb0b-4844-86e8-868ec8259929"
      },
      "cell_type": "code",
      "source": [
        "plt.plot(Cs, scores, 'ro-')\n",
        "plt.xscale('log')\n",
        "plt.xlabel('C')\n",
        "plt.ylabel('AUC-ROC')\n",
        "plt.title('Regularization Parameter Tuning')\n",
        "# horizontal line -- model quality with default C value\n",
        "plt.axhline(y=score_C_1, linewidth=.5, color='b', linestyle='dashed') \n",
        "plt.show()"
      ],
      "execution_count": 25,
      "outputs": [
        {
          "output_type": "display_data",
          "data": {
            "image/png": "[encoded data removed]",
            "text/plain": [
              "<Figure size 576x396 with 1 Axes>"
            ]
          },
          "metadata": {
            "tags": []
          }
        }
      ]
    },
    {
      "metadata": {
        "id": "VbmRnxrHQFjl",
        "colab_type": "text"
      },
      "cell_type": "markdown",
      "source": [
        "##### 8. What is the value of parameter C (if rounded to 2 decimals) that corresponds to the highest model quality?\n",
        "\n",
        "*For discussions, please stick to [ODS Slack](https://opendatascience.slack.com/), channel #mlcourse_ai, pinned thread __#a2_q8__*\n",
        "\n",
        "- 0.17\n",
        "- 0.46\n",
        "- 1.29\n",
        "- 3.14"
      ]
    },
    {
      "metadata": {
        "id": "mCupLGAXQFjm",
        "colab_type": "code",
        "colab": {}
      },
      "cell_type": "code",
      "source": [
        "# Your code is here    0.17  answer\n",
        "C=0.17"
      ],
      "execution_count": 0,
      "outputs": []
    },
    {
      "metadata": {
        "id": "0iXhyh4_QFju",
        "colab_type": "text"
      },
      "cell_type": "markdown",
      "source": [
        "For the last task in this assignment: train the model using the optimal regularization parameter you found (do not round up to two digits like in the last question). If you do everything correctly and submit your solution, you should see `ROC AUC = 0.92784` on the public leaderboard (\"A2 baseline 2\"):"
      ]
    },
    {
      "metadata": {
        "id": "DzFrtg_hQFjy",
        "colab_type": "code",
        "colab": {
          "base_uri": "https://localhost:8080/",
          "height": 105
        },
        "outputId": "fefbca9c-5d68-4eed-b787-91b89065fa72"
      },
      "cell_type": "code",
      "source": [
        "# Prepare the training and test data\n",
        "tmp_scaled = StandardScaler().fit_transform(full_new_feat[['start_month', 'start_hour', \n",
        "                                                           'morning']])\n",
        "X_train = csr_matrix(hstack([full_sites_sparse[:idx_split,:], \n",
        "                             tmp_scaled[:idx_split,:]]))\n",
        "X_test = csr_matrix(hstack([full_sites_sparse[idx_split:,:], \n",
        "                            tmp_scaled[idx_split:,:]]))\n",
        "\n",
        "# Train the model on the whole training data set using optimal regularization parameter\n",
        "lr = LogisticRegression(C=C, random_state=17, solver='liblinear').fit(X_train, y_train)\n",
        "\n",
        "# Make a prediction for the test set\n",
        "y_test = lr.predict_proba(X_test)[:, 1]\n",
        "\n",
        "# Write it to the submission file\n",
        "write_to_submission_file(y_test, 'baseline_2.csv')"
      ],
      "execution_count": 27,
      "outputs": [
        {
          "output_type": "stream",
          "text": [
            "/usr/local/lib/python3.6/dist-packages/sklearn/preprocessing/data.py:625: DataConversionWarning: Data with input dtype int64, float64 were all converted to float64 by StandardScaler.\n",
            "  return self.partial_fit(X, y)\n",
            "/usr/local/lib/python3.6/dist-packages/sklearn/base.py:462: DataConversionWarning: Data with input dtype int64, float64 were all converted to float64 by StandardScaler.\n",
            "  return self.fit(X, **fit_params).transform(X)\n"
          ],
          "name": "stderr"
        }
      ]
    },
    {
      "metadata": {
        "id": "2gvu5--BQFj4",
        "colab_type": "text"
      },
      "cell_type": "markdown",
      "source": [
        "In this part of the assignment, you have learned how to use sparse matrices, train logistic regression models, create new features and selected the best ones, learned why you need to scale features, and how to select hyperparameters. That's a lot!"
      ]
    },
    {
      "metadata": {
        "id": "5feMuqZqQFj7",
        "colab_type": "text"
      },
      "cell_type": "markdown",
      "source": [
        "# Part 2. Freeride"
      ]
    },
    {
      "metadata": {
        "id": "4yU4w2FXQFj8",
        "colab_type": "text"
      },
      "cell_type": "markdown",
      "source": [
        "<img src='../../img/snowboard.jpg' width=70%>\n",
        "\n",
        "*Yorko in Sheregesh, the best place in Russia for snowboarding and skiing.*"
      ]
    },
    {
      "metadata": {
        "id": "PX8cCMDBQFj9",
        "colab_type": "text"
      },
      "cell_type": "markdown",
      "source": [
        "In this part, you'll need to beat the 2 more baselines mentioned in the beginning of this assignment. No more step-by-step instructions. But it'll be very helpful for you to study the Kernel \"[Correct time-aware cross-validation scheme](https://www.kaggle.com/kashnitsky/correct-time-aware-cross-validation-scheme)\".\n",
        "\n",
        "Here are a few tips for finding new features: think about what you can come up with using existing features, try multiplying or dividing two of them, justify or decline your hypotheses with plots, extract useful information from time series data (time1 ... time10), do not hesitate to convert an existing feature (for example, take a logarithm), etc. Checkout other [Kernels](https://www.kaggle.com/c/catch-me-if-you-can-intruder-detection-through-webpage-session-tracking2/kernels). We encourage you to try new ideas and models - it's fun!\n",
        "\n",
        "*For discussions, please stick to [ODS Slack](https://opendatascience.slack.com/), channel #mlcourse_ai, pinned thread __#a2_alice__*\n",
        "\n",
        "When you get into Kaggle and Xgboost, you'll feel like that, and it's OK :)\n",
        "\n",
        "<img src='../../img/xgboost_meme.jpg' width=50%>\n",
        "\n",
        "*More nerdy jokes in the thread [\"Nerd Laughing Loud\"](https://www.kaggle.com/general/76963)*\n",
        "\n",
        "# Relax? Not yet\n",
        "\n",
        "That's it for this part of assignment 2. More credits will be given to the top 10 performers in this competition (from among current participants), check [course roadmap](https://mlcourse.ai/roadmap). Do not spoil the assignment and the competition - don't share high-performing kernels (with LB ROC AUC >= 0.95)."
      ]
    }
  ]
}